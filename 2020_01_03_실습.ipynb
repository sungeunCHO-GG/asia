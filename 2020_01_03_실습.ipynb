{
 "cells": [
  {
   "cell_type": "markdown",
   "metadata": {},
   "source": [
    "# 문제1) 1차원의 점들이 주어졌을 때, 그 중 가장 거리가 짧은 것의 쌍을 출력하는 함수를\n",
    "# 작성하시오.( 단, 점들의 배열은 모두 정렬되어 있다고 가정한다.)\n",
    "# S=[1,3,4,8,13,17,20], 결과는 (3,4)"
   ]
  },
  {
   "cell_type": "code",
   "execution_count": 7,
   "metadata": {},
   "outputs": [
    {
     "name": "stdout",
     "output_type": "stream",
     "text": [
      "42.42640687119285\n"
     ]
    }
   ],
   "source": [
    "import math\n",
    "\n",
    "class Point2D:\n",
    "    def __init__(self, x,y):\n",
    "        self.x= x\n",
    "        self.y= y\n",
    "        \n",
    "p1=Point2D(x=30, y=20)\n",
    "p2=Point2D(x=60, y=50)\n",
    "\n",
    "a=p2.x - p1.x\n",
    "b=p2.y - p1.y\n",
    "\n",
    "c = math.sqrt((a*a) + (b*b))\n",
    "print(c)"
   ]
  },
  {
   "cell_type": "code",
   "execution_count": 20,
   "metadata": {},
   "outputs": [
    {
     "name": "stdout",
     "output_type": "stream",
     "text": [
      "(3, 4)\n"
     ]
    }
   ],
   "source": [
    "# 풀이1\n",
    "\n",
    "s=[1,3,4,8,13,17,20]\n",
    "\n",
    "pairs = list(zip(s[0:], s[1:]))\n",
    "\n",
    "pairs.sort(key=lambda x:x[1]-x[0])\n",
    "\n",
    "print(pairs[0])"
   ]
  },
  {
   "cell_type": "code",
   "execution_count": 22,
   "metadata": {},
   "outputs": [
    {
     "data": {
      "text/plain": [
       "[(1,), (3,), (4,), (8,), (13,), (17,), (20,)]"
      ]
     },
     "execution_count": 22,
     "metadata": {},
     "output_type": "execute_result"
    }
   ],
   "source": [
    "# 풀이 2\n",
    "\n",
    "s=[1,3,4,8,13,17,20]\n",
    "\n",
    "list(zip(s))\n"
   ]
  },
  {
   "cell_type": "code",
   "execution_count": 24,
   "metadata": {},
   "outputs": [
    {
     "data": {
      "text/plain": [
       "[1, 3, 4, 8, 13, 17]"
      ]
     },
     "execution_count": 24,
     "metadata": {},
     "output_type": "execute_result"
    }
   ],
   "source": [
    "s[:-1]"
   ]
  },
  {
   "cell_type": "code",
   "execution_count": 26,
   "metadata": {},
   "outputs": [
    {
     "data": {
      "text/plain": [
       "[3, 4, 8, 13, 17, 20]"
      ]
     },
     "execution_count": 26,
     "metadata": {},
     "output_type": "execute_result"
    }
   ],
   "source": [
    "s[1:]"
   ]
  },
  {
   "cell_type": "code",
   "execution_count": 45,
   "metadata": {},
   "outputs": [
    {
     "data": {
      "text/plain": [
       "[(1, 3), (3, 4), (4, 8), (8, 13), (13, 17), (17, 20)]"
      ]
     },
     "execution_count": 45,
     "metadata": {},
     "output_type": "execute_result"
    }
   ],
   "source": [
    "a= list(zip(s[:-1], s[1:])) ; a"
   ]
  },
  {
   "cell_type": "code",
   "execution_count": 56,
   "metadata": {},
   "outputs": [],
   "source": [
    "b = {}"
   ]
  },
  {
   "cell_type": "code",
   "execution_count": 58,
   "metadata": {},
   "outputs": [
    {
     "name": "stdout",
     "output_type": "stream",
     "text": [
      "i= (1, 3)\n"
     ]
    },
    {
     "data": {
      "text/plain": [
       "{2: (1, 3)}"
      ]
     },
     "execution_count": 58,
     "metadata": {},
     "output_type": "execute_result"
    }
   ],
   "source": [
    "i = 0\n",
    "print(\"i=\", a[i])\n",
    "bkey = a[i][1] - a[i][0] ;bkey\n",
    "b[bkey] = a[i]; b"
   ]
  },
  {
   "cell_type": "code",
   "execution_count": 91,
   "metadata": {},
   "outputs": [
    {
     "name": "stdout",
     "output_type": "stream",
     "text": [
      "[(3, 4)]\n"
     ]
    }
   ],
   "source": [
    "# 풀이 3\n",
    "\n",
    "def spair(s):\n",
    "    dict={}\n",
    "    for (x,y) in zip(s[:-1], s[1:]) :\n",
    "        if not dict.get(y-x):\n",
    "            dict[y-x] = [(x,y)]\n",
    "        else:\n",
    "            dict[y-x] = dict[y-x] + [(x,y)]\n",
    "            \n",
    "    return dict[min(dict.keys())]\n",
    "\n",
    "print(spair(s))"
   ]
  },
  {
   "cell_type": "markdown",
   "metadata": {},
   "source": [
    "# (실습) 두 수를 받아서, x+y, x*y를 계산하는 함수 calc를 만드시오."
   ]
  },
  {
   "cell_type": "code",
   "execution_count": 97,
   "metadata": {},
   "outputs": [
    {
     "name": "stdout",
     "output_type": "stream",
     "text": [
      "두 수의 합은 5\n",
      "두 수의 곱은 6\n"
     ]
    }
   ],
   "source": [
    "def calc(x,y):\n",
    "    print(\"두 수의 합은\",x+y)\n",
    "    print(\"두 수의 곱은\",x*y)\n",
    "    \n",
    "calc(2,3)"
   ]
  },
  {
   "cell_type": "code",
   "execution_count": null,
   "metadata": {},
   "outputs": [],
   "source": [
    "x = int(input(\"x: \"))\n",
    "y = int(input(\"y: \"))\n",
    "\n",
    "print(\"두 수의 합:\", x+y)\n",
    "print(\"두 수의 차:\", x-y)\n",
    "print(\"두 수의 곱:\", x*y)\n",
    "print(\"두 수의 평균:\", (x+y)/2)\n",
    "\n",
    "print(\"큰수:\", max(x,y))\n",
    "print(\"작은수:\",min(x,y))"
   ]
  },
  {
   "cell_type": "code",
   "execution_count": null,
   "metadata": {},
   "outputs": [],
   "source": []
  }
 ],
 "metadata": {
  "kernelspec": {
   "display_name": "Python 3",
   "language": "python",
   "name": "python3"
  },
  "language_info": {
   "codemirror_mode": {
    "name": "ipython",
    "version": 3
   },
   "file_extension": ".py",
   "mimetype": "text/x-python",
   "name": "python",
   "nbconvert_exporter": "python",
   "pygments_lexer": "ipython3",
   "version": "3.7.4"
  }
 },
 "nbformat": 4,
 "nbformat_minor": 2
}
