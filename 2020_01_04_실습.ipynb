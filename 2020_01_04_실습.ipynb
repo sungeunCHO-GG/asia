{
 "cells": [
  {
   "cell_type": "markdown",
   "metadata": {},
   "source": [
    "# 문제) 문자를 화면에서 입력받아 역순으로 추출하는 프로그램을 작성하시오.\n"
   ]
  },
  {
   "cell_type": "code",
   "execution_count": 1,
   "metadata": {
    "scrolled": true
   },
   "outputs": [
    {
     "name": "stdout",
     "output_type": "stream",
     "text": [
      "python\n",
      "nohtyp\n"
     ]
    }
   ],
   "source": [
    "a = input()\n",
    "print(''.join(reversed(a)))"
   ]
  },
  {
   "cell_type": "code",
   "execution_count": 4,
   "metadata": {},
   "outputs": [
    {
     "name": "stdout",
     "output_type": "stream",
     "text": [
      "python\n",
      "nohtyp\n"
     ]
    }
   ],
   "source": [
    "b=input()\n",
    "\n",
    "b_list=list(b)\n",
    "\n",
    "b_list.reverse()\n",
    "\n",
    "print(''.join(b_list))"
   ]
  },
  {
   "cell_type": "code",
   "execution_count": 5,
   "metadata": {},
   "outputs": [
    {
     "name": "stdout",
     "output_type": "stream",
     "text": [
      "input a word: python\n",
      "input=  ['p', 'y', 't', 'h', 'o', 'n']\n",
      "result = ['n', 'o', 'h', 't', 'y', 'p']\n",
      "word= nohtyp\n"
     ]
    }
   ],
   "source": [
    "# 풀이1\n",
    "\n",
    "word=input(\"input a word: \")\n",
    "word_list = list(word)\n",
    "print(\"input= \", word_list)\n",
    "\n",
    "result=[]\n",
    "\n",
    "for i in range(len(word_list)):\n",
    "    result.append(word_list.pop()) # 글자 하나하나를 뒤에서부터 추출\n",
    "    \n",
    "print(\"result =\", result)\n",
    "\n",
    "print(\"word=\", word[::-1])\n",
    "\n",
    "# 문자열을 [::-1] 이라는 인덱스로 호출하면, \n",
    "# 아주 단순하게 해당 문자열을 뒤집은 결과를 반환한다.\n"
   ]
  },
  {
   "cell_type": "code",
   "execution_count": 6,
   "metadata": {
    "scrolled": true
   },
   "outputs": [
    {
     "name": "stdout",
     "output_type": "stream",
     "text": [
      "char= p\n",
      "rev = p\n",
      "--------------------\n",
      "char= y\n",
      "rev = yp\n",
      "--------------------\n",
      "char= t\n",
      "rev = typ\n",
      "--------------------\n",
      "char= h\n",
      "rev = htyp\n",
      "--------------------\n",
      "char= o\n",
      "rev = ohtyp\n",
      "--------------------\n",
      "char= n\n",
      "rev = nohtyp\n",
      "--------------------\n",
      "nohtyp\n"
     ]
    }
   ],
   "source": [
    "# 풀이2\n",
    "\n",
    "s_reverse= '' # 기존 문자열을 역순으로 담아줄 빈 문자열 선언\n",
    "\n",
    "for char in word:\n",
    "    print(\"char=\", char)\n",
    "    s_reverse= char + s_reverse\n",
    "    print(\"rev =\", s_reverse)\n",
    "    print('-'*20)\n",
    "    \n",
    "print(s_reverse)"
   ]
  }
 ],
 "metadata": {
  "kernelspec": {
   "display_name": "Python 3",
   "language": "python",
   "name": "python3"
  },
  "language_info": {
   "codemirror_mode": {
    "name": "ipython",
    "version": 3
   },
   "file_extension": ".py",
   "mimetype": "text/x-python",
   "name": "python",
   "nbconvert_exporter": "python",
   "pygments_lexer": "ipython3",
   "version": "3.7.4"
  }
 },
 "nbformat": 4,
 "nbformat_minor": 2
}
