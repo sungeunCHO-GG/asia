{
 "cells": [
  {
   "cell_type": "code",
   "execution_count": 2,
   "metadata": {},
   "outputs": [],
   "source": [
    "from pykrx import stock"
   ]
  },
  {
   "cell_type": "code",
   "execution_count": 5,
   "metadata": {},
   "outputs": [
    {
     "data": {
      "text/plain": [
       "['__builtins__',\n",
       " '__cached__',\n",
       " '__doc__',\n",
       " '__file__',\n",
       " '__loader__',\n",
       " '__name__',\n",
       " '__package__',\n",
       " '__path__',\n",
       " '__spec__',\n",
       " 'api',\n",
       " 'datetime',\n",
       " 'get_business_days',\n",
       " 'get_index_kosdaq_ohlcv_by_date',\n",
       " 'get_index_kospi_ohlcv_by_date',\n",
       " 'get_index_portfolio_deposit_file',\n",
       " 'get_index_status_by_group',\n",
       " 'get_index_ticker_list',\n",
       " 'get_market_fundamental_by_date',\n",
       " 'get_market_fundamental_by_ticker',\n",
       " 'get_market_ohlcv_by_date',\n",
       " 'get_market_price_change_by_ticker',\n",
       " 'get_market_ticker_list',\n",
       " 'get_market_ticker_name',\n",
       " 'get_shorting_balance_by_ticker',\n",
       " 'get_shorting_balance_top50',\n",
       " 'get_shorting_investor_price_by_date',\n",
       " 'get_shorting_investor_volume_by_date',\n",
       " 'get_shorting_status_by_date',\n",
       " 'get_shorting_volume_by_ticker',\n",
       " 'get_shorting_volume_top50',\n",
       " 'krx',\n",
       " 'naver',\n",
       " 'pd',\n",
       " 'resample_ohlcv']"
      ]
     },
     "execution_count": 5,
     "metadata": {},
     "output_type": "execute_result"
    }
   ],
   "source": [
    "dir(stock)"
   ]
  },
  {
   "cell_type": "code",
   "execution_count": 7,
   "metadata": {},
   "outputs": [
    {
     "name": "stdout",
     "output_type": "stream",
     "text": [
      "lens= 2466\n",
      "['060310', '095570', '068400', '006840', '054620', '265520', '211270', '027410', '282330', '138930']\n"
     ]
    }
   ],
   "source": [
    "# 종목 코드\n",
    "tickers = stock.get_market_ticker_list()\n",
    "print(\"lens=\", len(tickers))\n",
    "print(tickers[0:10])"
   ]
  },
  {
   "cell_type": "code",
   "execution_count": 11,
   "metadata": {},
   "outputs": [
    {
     "data": {
      "text/plain": [
       "2468"
      ]
     },
     "execution_count": 11,
     "metadata": {},
     "output_type": "execute_result"
    }
   ],
   "source": [
    "# 해당날짜 종목 코드\n",
    "\n",
    "tickers = stock.get_market_ticker_list(\"20191228\")\n",
    "len(tickers)"
   ]
  },
  {
   "cell_type": "code",
   "execution_count": 13,
   "metadata": {},
   "outputs": [
    {
     "name": "stdout",
     "output_type": "stream",
     "text": [
      "SK하이닉스\n"
     ]
    }
   ],
   "source": [
    "# 종목명\n",
    "company = stock.get_market_ticker_name(\"000660\")\n",
    "print(company)"
   ]
  },
  {
   "cell_type": "code",
   "execution_count": 15,
   "metadata": {},
   "outputs": [
    {
     "name": "stdout",
     "output_type": "stream",
     "text": [
      "               시가     고가     저가     종가       거래량\n",
      "날짜                                              \n",
      "2018-08-10  46150  46400  44850  45400  16670643\n",
      "2018-08-13  44950  45100  44650  45050   9803831\n",
      "2018-08-14  44850  45400  44850  45150   6409259\n",
      "2018-08-16  43800  44650  43700  44250  10088229\n",
      "2018-08-17  44050  44400  44050  44100   6808747\n",
      "2018-08-20  43500  44200  43500  43850   7289124\n",
      "2018-08-21  43700  44900  43700  44800   9520270\n",
      "2018-08-22  45150  46200  44900  46100  11641656\n",
      "2018-08-23  46150  46200  45700  46200   6730918\n",
      "2018-08-24  45900  46400  45550  46150   6582535\n"
     ]
    }
   ],
   "source": [
    "# 일자별 OHLCV 조회\n",
    "\n",
    "df = stock.get_market_ohlcv_by_date(\"20180810\", \"20181212\", \"005930\")\n",
    "\n",
    "print(df.head(10))"
   ]
  },
  {
   "cell_type": "code",
   "execution_count": 24,
   "metadata": {},
   "outputs": [
    {
     "name": "stdout",
     "output_type": "stream",
     "text": [
      "              시가    고가    저가    종가     거래량\n",
      "날짜                                        \n",
      "2018-12-10  2110  2380  2100  2165  327195\n",
      "2018-12-11  2145  2225  2130  2180  138135\n",
      "2018-12-12  2180  2230  2140  2170   37304\n",
      "              시가    고가    저가    종가     거래량\n",
      "날짜                                        \n",
      "2018-12-10  4840  4840  4670  4750   32310\n",
      "2018-12-11  4685  4750  4585  4585   37975\n",
      "2018-12-12  4605  4605  4520  4540  102752\n",
      "               시가     고가     저가     종가     거래량\n",
      "날짜                                            \n",
      "2018-12-10  12900  13200  12750  13000  206925\n",
      "2018-12-11  13100  13100  12500  12550  206669\n",
      "2018-12-12  12650  13150  12450  13150  213365\n",
      "               시가     고가     저가     종가    거래량\n",
      "날짜                                           \n",
      "2018-12-10  55400  56200  54900  55800  28618\n",
      "2018-12-11  55800  56200  54900  55100  24302\n",
      "2018-12-12  55400  55900  54900  55900  13179\n",
      "              시가    고가    저가    종가    거래량\n",
      "날짜                                       \n",
      "2018-12-10  4230  4370  4185  4275  61917\n",
      "2018-12-11  4210  4270  4200  4265  41620\n",
      "2018-12-12  4220  4395  4220  4390  79125\n",
      "               시가     고가     저가     종가     거래량\n",
      "날짜                                            \n",
      "2018-12-10  22300  22350  21800  21900  191100\n",
      "2018-12-11  22200  22350  21600  21650  131226\n",
      "2018-12-12  21800  22550  21800  22500  162587\n",
      "              시가    고가    저가    종가    거래량\n",
      "날짜                                       \n",
      "2018-12-10  6460  6460  6340  6350   2703\n",
      "2018-12-11  6210  6550  6040  6100  55756\n",
      "2018-12-12  6150  6180  6070  6180   4981\n",
      "              시가    고가    저가    종가     거래량\n",
      "날짜                                        \n",
      "2018-12-10  7900  8000  7830  7900  103028\n",
      "2018-12-11  7900  8010  7860  7900  122166\n",
      "2018-12-12  7900  8230  7900  8200  160608\n",
      "                시가      고가      저가      종가    거래량\n",
      "날짜                                               \n",
      "2018-12-10  189500  199000  187000  195000  21513\n",
      "2018-12-11  191000  201500  191000  201000  29246\n",
      "2018-12-12  202500  203000  197500  201000  32089\n",
      "              시가    고가    저가    종가     거래량\n",
      "날짜                                        \n",
      "2018-12-10  7480  7500  7410  7490  693105\n",
      "2018-12-11  7440  7480  7360  7390  766812\n",
      "2018-12-12  7450  7480  7380  7380  941317\n",
      "                시가      고가      저가      종가  거래량\n",
      "날짜                                             \n",
      "2018-12-10  240000  240000  238500  240000  117\n",
      "2018-12-11  240500  240500  239000  240000   19\n",
      "2018-12-12  240500  241000  239500  241000   45\n"
     ]
    }
   ],
   "source": [
    "import time\n",
    "\n",
    "count=0\n",
    "\n",
    "for ticker in stock.get_market_ticker_list():\n",
    "    \n",
    "    count +=1\n",
    "    \n",
    "    df = stock.get_market_ohlcv_by_date(\"20181210\", \"20181212\", ticker)\n",
    "    \n",
    "    print(df.head())\n",
    "    \n",
    "    time.sleep(1)\n",
    "    \n",
    "    if count>10:\n",
    "        break\n",
    "\n"
   ]
  },
  {
   "cell_type": "code",
   "execution_count": 27,
   "metadata": {},
   "outputs": [
    {
     "name": "stdout",
     "output_type": "stream",
     "text": [
      "         종목명     시가     종가   변동폭   등락률       거래량          거래대금\n",
      "티커                                                            \n",
      "000020  동화약품  11400  12300   900  7.89   4573591   54852078400\n",
      "000030  우리은행  16600  15550 -1050 -6.33  21956076  345083853864\n"
     ]
    }
   ],
   "source": [
    "# 가격 변동 조회\n",
    "\n",
    "df = stock.get_market_price_change_by_ticker(\"20180301\",\"20180320\")\n",
    "print(df.head(2))"
   ]
  },
  {
   "cell_type": "code",
   "execution_count": 28,
   "metadata": {},
   "outputs": [
    {
     "name": "stdout",
     "output_type": "stream",
     "text": [
      "종목명       썬코어\n",
      "시가       1360\n",
      "종가          0\n",
      "변동폭     -1360\n",
      "등락률      -100\n",
      "거래량         0\n",
      "거래대금        0\n",
      "Name: 051170, dtype: object\n"
     ]
    }
   ],
   "source": [
    "print(df.loc['051170'])"
   ]
  },
  {
   "cell_type": "code",
   "execution_count": 29,
   "metadata": {},
   "outputs": [
    {
     "name": "stdout",
     "output_type": "stream",
     "text": [
      "           종목명   DIV    BPS    PER   EPS       PBR\n",
      "티커                                                \n",
      "000250   삼천당제약  0.14   5689  84.48   422  6.266578\n",
      "000440  중앙에너비스  2.76  37029  25.55  1135  0.783150\n"
     ]
    }
   ],
   "source": [
    "# 종목별 DIV/BPS/PER/EPS 조회\n",
    "\n",
    "df = stock.get_market_fundamental_by_ticker(\"20180305\")\n",
    "\n",
    "print(df.head(2))"
   ]
  },
  {
   "cell_type": "code",
   "execution_count": 30,
   "metadata": {},
   "outputs": [
    {
     "name": "stdout",
     "output_type": "stream",
     "text": [
      "             DIV    BPS   PER   EPS       PBR\n",
      "날짜                                           \n",
      "2018-08-31  1.87  28126  7.57  5997  1.614068\n",
      "2018-09-30  1.79  28126  7.91  5997  1.686563\n"
     ]
    }
   ],
   "source": [
    "# d 일자, m월, y년도\n",
    "\n",
    "df = stock.get_market_fundamental_by_date(\"20180810\", \"20181212\", \"005930\", \"m\")\n",
    "\n",
    "print(df.head(2))"
   ]
  }
 ],
 "metadata": {
  "kernelspec": {
   "display_name": "Python 3",
   "language": "python",
   "name": "python3"
  },
  "language_info": {
   "codemirror_mode": {
    "name": "ipython",
    "version": 3
   },
   "file_extension": ".py",
   "mimetype": "text/x-python",
   "name": "python",
   "nbconvert_exporter": "python",
   "pygments_lexer": "ipython3",
   "version": "3.7.4"
  }
 },
 "nbformat": 4,
 "nbformat_minor": 2
}
