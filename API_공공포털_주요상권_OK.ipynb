{
 "cells": [
  {
   "cell_type": "markdown",
   "metadata": {},
   "source": [
    "1. \n",
    "\n",
    "    - 활용사례 : 오픈 API\n",
    "    - 소상공인 상가업소 정보 서비스 검색\n",
    "    - 활용신청\n",
    "    - 시스템유형(일반), 활용정보(웹사이트 개발)\n",
    "    - 상세기능정보(선택)\n",
    "    - 동의합니다- 신청\n",
    "    \n",
    "2. 개발계정 일반 인증키 - 복사\n",
    "    \n",
    "    - End point\n",
    "    - 데이터 포맷\n",
    "    - 참고문서\n",
    "\n",
    "3. URL 입력 항목\n",
    "\n",
    "    - 인증키\n",
    "    - CURRENT_DATE\n",
    "    - HOUR\n",
    "    - COURSE_ID\n",
    "    \n",
    "    "
   ]
  },
  {
   "cell_type": "code",
   "execution_count": 1,
   "metadata": {},
   "outputs": [
    {
     "data": {
      "text/plain": [
       "'http://apis.data.go.kr/B553077/api/open/sdsc/storeZoneInRadius?radius=500&cx=127.004528&cy=37.567538&ServiceKey=s1JerABCGMtqqLUB0r7byT8n7uzwvD9lPsxSfKp9ID5seIFNMkOQzIsACpahzhcUznSQXlirur4Ivp38W2Zd3Q%3D%3D&type=json'"
      ]
     },
     "execution_count": 1,
     "metadata": {},
     "output_type": "execute_result"
    }
   ],
   "source": [
    "my_key = \"s1JerABCGMtqqLUB0r7byT8n7uzwvD9lPsxSfKp9ID5seIFNMkOQzIsACpahzhcUznSQXlirur4Ivp38W2Zd3Q%3D%3D\" \n",
    "url1=\"http://apis.data.go.kr/B553077/api/open/sdsc/\"\n",
    "url2=\"storeZoneInRadius?radius=500&cx=127.004528&cy=37.567538&ServiceKey=\"\n",
    "url3=\"&type=json\"\n",
    "\n",
    "url = url1 + url2 + my_key + url3 \n",
    "url\n"
   ]
  },
  {
   "cell_type": "code",
   "execution_count": 2,
   "metadata": {},
   "outputs": [
    {
     "data": {
      "text/plain": [
       "'{\\n\\t\"header\" : {\\n\\t\\t\"description\" : \"소상공인시장진흥공단 주요상권\"\\n\\t\\t,\"resultCode\" : \"00\"\\n\\t\\t,\"resultMsg\" : \"NORMAL SERVICE\"\\n\\t},\\n\\t\"body\" : {\\n\\t\\t\\t\"items\" : [\\n\\t\\t\\t\\t{\\n\\t\\t\\t\\t\"trarNo\" : 2207\\n\\t\\t\\t\\t,\"mainTrarNm\" : \"동대문역사문화공원역\"\\n\\t\\t\\t\\t,\"ctprvnCd\" : \"11\"\\n\\t\\t\\t\\t,\"ctprvnNm\" : \"서울특별시\"\\n\\t\\t\\t\\t,\"signguCd\" : \"11140\"\\n\\t\\t\\t\\t,\"signguNm\" : \"중구\"\\n\\t\\t\\t\\t,\"trarArea\" : 81499.1\\n\\t\\t\\t\\t,\"coordNum\" : 8\\n\\t\\t\\t\\t,\"coords\" : \"POLYGON ((127.007565 37.565945, 127.004846 37.566394, 127.002877 37.566759, 127.002341 37.566737, 127.00252 37.5647, 127.004682 37.564852, 127.007062 37.564448, 127.007565 37.565945))\"\\n\\t\\t\\t\\t,\"stdrDt\" : \"2015-12-17\"\\n\\t\\t\\t\\t}\\n\\t\\t\\t\\t,{\\n\\t\\t\\t\\t\"trarNo\" : 2214\\n\\t\\t\\t\\t,\"mainTrarNm\" : \"을지로4가역\"\\n\\t\\t\\t\\t,\"ctprvnCd\" : \"11\"\\n\\t\\t\\t\\t,\"ctprvnNm\" : \"서울특별시\"\\n\\t\\t\\t\\t,\"signguCd\" : \"11140\"\\n\\t\\t\\t\\t,\"signguNm\" : \"중구\"\\n\\t\\t\\t\\t,\"trarArea\" : 88434.9\\n\\t\\t\\t\\t,\"coordNum\" : 8\\n\\t\\t\\t\\t,\"coords\" : \"POLYGON ((126.999081 37.566789, 127.002102 37.566937, 127.001981 37.568644, 127.001871 37.568655, 127.001873 37.569521, 126.998065 37.568812, 126.998213 37.566753, 126.999081 37.566789))\"\\n\\t\\t\\t\\t,\"stdrDt\" : \"2015-12-17\"\\n\\t\\t\\t\\t}\\n\\t\\t\\t\\t,{\\n\\t\\t\\t\\t\"trarNo\" : 2216\\n\\t\\t\\t\\t,\"mainTrarNm\" : \"동대문시장\"\\n\\t\\t\\t\\t,\"ctprvnCd\" : \"11\"\\n\\t\\t\\t\\t,\"ctprvnNm\" : \"서울특별시\"\\n\\t\\t\\t\\t,\"signguCd\" : \"11140\"\\n\\t\\t\\t\\t,\"signguNm\" : \"중구\"\\n\\t\\t\\t\\t,\"trarArea\" : 68658\\n\\t\\t\\t\\t,\"coordNum\" : 15\\n\\t\\t\\t\\t,\"coords\" : \"POLYGON ((127.009453 37.568775, 127.009445 37.569396, 127.009558 37.569397, 127.009543 37.569686, 127.00659 37.569553, 127.006688 37.568112, 127.007709 37.567931, 127.007098 37.567124, 127.006951 37.56706, 127.006146 37.56717, 127.005929 37.566438, 127.007632 37.56611, 127.008198 37.566935, 127.008107 37.566979, 127.009453 37.568775))\"\\n\\t\\t\\t\\t,\"stdrDt\" : \"2015-12-17\"\\n\\t\\t\\t\\t}\\n\\t\\t\\t\\t,{\\n\\t\\t\\t\\t\"trarNo\" : 2226\\n\\t\\t\\t\\t,\"mainTrarNm\" : \"동대문시장\"\\n\\t\\t\\t\\t,\"ctprvnCd\" : \"11\"\\n\\t\\t\\t\\t,\"ctprvnNm\" : \"서울특별시\"\\n\\t\\t\\t\\t,\"signguCd\" : \"11110\"\\n\\t\\t\\t\\t,\"signguNm\" : \"종로구\"\\n\\t\\t\\t\\t,\"trarArea\" : 82364.6\\n\\t\\t\\t\\t,\"coordNum\" : 28\\n\\t\\t\\t\\t,\"coords\" : \"POLYGON ((127.009388 37.570565, 127.008984 37.571182, 127.008537 37.57103, 127.006426 37.570998, 127.00658 37.570351, 127.006482 37.570257, 127.006356 37.570327, 127.006198 37.57099, 127.005964 37.570986, 127.005915 37.570267, 127.005804 37.570193, 127.005691 37.570283, 127.005737 37.570983, 127.005376 37.570977, 127.005356 37.570376, 127.005244 37.570291, 127.00513 37.570373, 127.005149 37.570973, 127.003561 37.570947, 127.003571 37.570412, 127.003461 37.570336, 127.003348 37.570409, 127.003335 37.570944, 127.002014 37.570911, 127.002118 37.569718, 127.006712 37.569739, 127.009542 37.569875, 127.009388 37.570565))\"\\n\\t\\t\\t\\t,\"stdrDt\" : \"2015-12-17\"\\n\\t\\t\\t\\t}\\n\\t\\t\\t\\t,{\\n\\t\\t\\t\\t\"trarNo\" : 2225\\n\\t\\t\\t\\t,\"mainTrarNm\" : \"서울 종로구 종로5가역_1\"\\n\\t\\t\\t\\t,\"ctprvnCd\" : \"11\"\\n\\t\\t\\t\\t,\"ctprvnNm\" : \"서울특별시\"\\n\\t\\t\\t\\t,\"signguCd\" : \"11110\"\\n\\t\\t\\t\\t,\"signguNm\" : \"종로구\"\\n\\t\\t\\t\\t,\"trarArea\" : 50246.7\\n\\t\\t\\t\\t,\"coordNum\" : 20\\n\\t\\t\\t\\t,\"coords\" : \"POLYGON ((127.001795 37.57082, 127.000088 37.570774, 127.000052 37.570281, 126.999763 37.57022, 126.99964 37.570323, 126.999836 37.570406, 126.999859 37.570757, 126.999321 37.570717, 126.999367 37.570303, 126.999265 37.570221, 126.999145 37.570287, 126.999096 37.5707, 126.999078 37.570524, 126.99887 37.570325, 126.998761 37.570381, 126.998725 37.570672, 126.997866 37.570624, 126.998052 37.568996, 127.001892 37.569705, 127.001795 37.57082))\"\\n\\t\\t\\t\\t,\"stdrDt\" : \"2015-12-17\"\\n\\t\\t\\t\\t}\\n\\t\\t\\t]\\n\\t}\\n}\\n'"
      ]
     },
     "execution_count": 2,
     "metadata": {},
     "output_type": "execute_result"
    }
   ],
   "source": [
    "import urllib.request\n",
    "\n",
    "res = urllib.request.urlopen(url)\n",
    "\n",
    "json_str = res.read().decode(\"utf-8\")\n",
    "\n",
    "json_str"
   ]
  },
  {
   "cell_type": "code",
   "execution_count": 3,
   "metadata": {},
   "outputs": [
    {
     "data": {
      "text/plain": [
       "{'header': {'description': '소상공인시장진흥공단 주요상권',\n",
       "  'resultCode': '00',\n",
       "  'resultMsg': 'NORMAL SERVICE'},\n",
       " 'body': {'items': [{'trarNo': 2207,\n",
       "    'mainTrarNm': '동대문역사문화공원역',\n",
       "    'ctprvnCd': '11',\n",
       "    'ctprvnNm': '서울특별시',\n",
       "    'signguCd': '11140',\n",
       "    'signguNm': '중구',\n",
       "    'trarArea': 81499.1,\n",
       "    'coordNum': 8,\n",
       "    'coords': 'POLYGON ((127.007565 37.565945, 127.004846 37.566394, 127.002877 37.566759, 127.002341 37.566737, 127.00252 37.5647, 127.004682 37.564852, 127.007062 37.564448, 127.007565 37.565945))',\n",
       "    'stdrDt': '2015-12-17'},\n",
       "   {'trarNo': 2214,\n",
       "    'mainTrarNm': '을지로4가역',\n",
       "    'ctprvnCd': '11',\n",
       "    'ctprvnNm': '서울특별시',\n",
       "    'signguCd': '11140',\n",
       "    'signguNm': '중구',\n",
       "    'trarArea': 88434.9,\n",
       "    'coordNum': 8,\n",
       "    'coords': 'POLYGON ((126.999081 37.566789, 127.002102 37.566937, 127.001981 37.568644, 127.001871 37.568655, 127.001873 37.569521, 126.998065 37.568812, 126.998213 37.566753, 126.999081 37.566789))',\n",
       "    'stdrDt': '2015-12-17'},\n",
       "   {'trarNo': 2216,\n",
       "    'mainTrarNm': '동대문시장',\n",
       "    'ctprvnCd': '11',\n",
       "    'ctprvnNm': '서울특별시',\n",
       "    'signguCd': '11140',\n",
       "    'signguNm': '중구',\n",
       "    'trarArea': 68658,\n",
       "    'coordNum': 15,\n",
       "    'coords': 'POLYGON ((127.009453 37.568775, 127.009445 37.569396, 127.009558 37.569397, 127.009543 37.569686, 127.00659 37.569553, 127.006688 37.568112, 127.007709 37.567931, 127.007098 37.567124, 127.006951 37.56706, 127.006146 37.56717, 127.005929 37.566438, 127.007632 37.56611, 127.008198 37.566935, 127.008107 37.566979, 127.009453 37.568775))',\n",
       "    'stdrDt': '2015-12-17'},\n",
       "   {'trarNo': 2226,\n",
       "    'mainTrarNm': '동대문시장',\n",
       "    'ctprvnCd': '11',\n",
       "    'ctprvnNm': '서울특별시',\n",
       "    'signguCd': '11110',\n",
       "    'signguNm': '종로구',\n",
       "    'trarArea': 82364.6,\n",
       "    'coordNum': 28,\n",
       "    'coords': 'POLYGON ((127.009388 37.570565, 127.008984 37.571182, 127.008537 37.57103, 127.006426 37.570998, 127.00658 37.570351, 127.006482 37.570257, 127.006356 37.570327, 127.006198 37.57099, 127.005964 37.570986, 127.005915 37.570267, 127.005804 37.570193, 127.005691 37.570283, 127.005737 37.570983, 127.005376 37.570977, 127.005356 37.570376, 127.005244 37.570291, 127.00513 37.570373, 127.005149 37.570973, 127.003561 37.570947, 127.003571 37.570412, 127.003461 37.570336, 127.003348 37.570409, 127.003335 37.570944, 127.002014 37.570911, 127.002118 37.569718, 127.006712 37.569739, 127.009542 37.569875, 127.009388 37.570565))',\n",
       "    'stdrDt': '2015-12-17'},\n",
       "   {'trarNo': 2225,\n",
       "    'mainTrarNm': '서울 종로구 종로5가역_1',\n",
       "    'ctprvnCd': '11',\n",
       "    'ctprvnNm': '서울특별시',\n",
       "    'signguCd': '11110',\n",
       "    'signguNm': '종로구',\n",
       "    'trarArea': 50246.7,\n",
       "    'coordNum': 20,\n",
       "    'coords': 'POLYGON ((127.001795 37.57082, 127.000088 37.570774, 127.000052 37.570281, 126.999763 37.57022, 126.99964 37.570323, 126.999836 37.570406, 126.999859 37.570757, 126.999321 37.570717, 126.999367 37.570303, 126.999265 37.570221, 126.999145 37.570287, 126.999096 37.5707, 126.999078 37.570524, 126.99887 37.570325, 126.998761 37.570381, 126.998725 37.570672, 126.997866 37.570624, 126.998052 37.568996, 127.001892 37.569705, 127.001795 37.57082))',\n",
       "    'stdrDt': '2015-12-17'}]}}"
      ]
     },
     "execution_count": 3,
     "metadata": {},
     "output_type": "execute_result"
    }
   ],
   "source": [
    "import json\n",
    "\n",
    "json_object = json.loads(json_str)\n",
    "json_object"
   ]
  },
  {
   "cell_type": "code",
   "execution_count": 4,
   "metadata": {},
   "outputs": [],
   "source": [
    "import pandas as pd\n",
    "\n",
    "from pandas.io.json import json_normalize\n",
    "\n",
    "body=[json_object['body']['items']]"
   ]
  },
  {
   "cell_type": "code",
   "execution_count": 5,
   "metadata": {},
   "outputs": [
    {
     "data": {
      "text/html": [
       "<div>\n",
       "<style scoped>\n",
       "    .dataframe tbody tr th:only-of-type {\n",
       "        vertical-align: middle;\n",
       "    }\n",
       "\n",
       "    .dataframe tbody tr th {\n",
       "        vertical-align: top;\n",
       "    }\n",
       "\n",
       "    .dataframe thead th {\n",
       "        text-align: right;\n",
       "    }\n",
       "</style>\n",
       "<table border=\"1\" class=\"dataframe\">\n",
       "  <thead>\n",
       "    <tr style=\"text-align: right;\">\n",
       "      <th></th>\n",
       "      <th>trarNo</th>\n",
       "      <th>mainTrarNm</th>\n",
       "      <th>ctprvnCd</th>\n",
       "      <th>ctprvnNm</th>\n",
       "      <th>signguCd</th>\n",
       "      <th>signguNm</th>\n",
       "      <th>trarArea</th>\n",
       "      <th>coordNum</th>\n",
       "      <th>coords</th>\n",
       "      <th>stdrDt</th>\n",
       "    </tr>\n",
       "  </thead>\n",
       "  <tbody>\n",
       "    <tr>\n",
       "      <td>0</td>\n",
       "      <td>2207</td>\n",
       "      <td>동대문역사문화공원역</td>\n",
       "      <td>11</td>\n",
       "      <td>서울특별시</td>\n",
       "      <td>11140</td>\n",
       "      <td>중구</td>\n",
       "      <td>81499.1</td>\n",
       "      <td>8</td>\n",
       "      <td>POLYGON ((127.007565 37.565945, 127.004846 37....</td>\n",
       "      <td>2015-12-17</td>\n",
       "    </tr>\n",
       "    <tr>\n",
       "      <td>1</td>\n",
       "      <td>2214</td>\n",
       "      <td>을지로4가역</td>\n",
       "      <td>11</td>\n",
       "      <td>서울특별시</td>\n",
       "      <td>11140</td>\n",
       "      <td>중구</td>\n",
       "      <td>88434.9</td>\n",
       "      <td>8</td>\n",
       "      <td>POLYGON ((126.999081 37.566789, 127.002102 37....</td>\n",
       "      <td>2015-12-17</td>\n",
       "    </tr>\n",
       "    <tr>\n",
       "      <td>2</td>\n",
       "      <td>2216</td>\n",
       "      <td>동대문시장</td>\n",
       "      <td>11</td>\n",
       "      <td>서울특별시</td>\n",
       "      <td>11140</td>\n",
       "      <td>중구</td>\n",
       "      <td>68658.0</td>\n",
       "      <td>15</td>\n",
       "      <td>POLYGON ((127.009453 37.568775, 127.009445 37....</td>\n",
       "      <td>2015-12-17</td>\n",
       "    </tr>\n",
       "    <tr>\n",
       "      <td>3</td>\n",
       "      <td>2226</td>\n",
       "      <td>동대문시장</td>\n",
       "      <td>11</td>\n",
       "      <td>서울특별시</td>\n",
       "      <td>11110</td>\n",
       "      <td>종로구</td>\n",
       "      <td>82364.6</td>\n",
       "      <td>28</td>\n",
       "      <td>POLYGON ((127.009388 37.570565, 127.008984 37....</td>\n",
       "      <td>2015-12-17</td>\n",
       "    </tr>\n",
       "    <tr>\n",
       "      <td>4</td>\n",
       "      <td>2225</td>\n",
       "      <td>서울 종로구 종로5가역_1</td>\n",
       "      <td>11</td>\n",
       "      <td>서울특별시</td>\n",
       "      <td>11110</td>\n",
       "      <td>종로구</td>\n",
       "      <td>50246.7</td>\n",
       "      <td>20</td>\n",
       "      <td>POLYGON ((127.001795 37.57082, 127.000088 37.5...</td>\n",
       "      <td>2015-12-17</td>\n",
       "    </tr>\n",
       "  </tbody>\n",
       "</table>\n",
       "</div>"
      ],
      "text/plain": [
       "   trarNo      mainTrarNm ctprvnCd ctprvnNm signguCd signguNm  trarArea  \\\n",
       "0    2207      동대문역사문화공원역       11    서울특별시    11140       중구   81499.1   \n",
       "1    2214          을지로4가역       11    서울특별시    11140       중구   88434.9   \n",
       "2    2216           동대문시장       11    서울특별시    11140       중구   68658.0   \n",
       "3    2226           동대문시장       11    서울특별시    11110      종로구   82364.6   \n",
       "4    2225  서울 종로구 종로5가역_1       11    서울특별시    11110      종로구   50246.7   \n",
       "\n",
       "   coordNum                                             coords      stdrDt  \n",
       "0         8  POLYGON ((127.007565 37.565945, 127.004846 37....  2015-12-17  \n",
       "1         8  POLYGON ((126.999081 37.566789, 127.002102 37....  2015-12-17  \n",
       "2        15  POLYGON ((127.009453 37.568775, 127.009445 37....  2015-12-17  \n",
       "3        28  POLYGON ((127.009388 37.570565, 127.008984 37....  2015-12-17  \n",
       "4        20  POLYGON ((127.001795 37.57082, 127.000088 37.5...  2015-12-17  "
      ]
     },
     "execution_count": 5,
     "metadata": {},
     "output_type": "execute_result"
    }
   ],
   "source": [
    "json_normalize(json_object['body']['items'])"
   ]
  }
 ],
 "metadata": {
  "kernelspec": {
   "display_name": "Python 3",
   "language": "python",
   "name": "python3"
  },
  "language_info": {
   "codemirror_mode": {
    "name": "ipython",
    "version": 3
   },
   "file_extension": ".py",
   "mimetype": "text/x-python",
   "name": "python",
   "nbconvert_exporter": "python",
   "pygments_lexer": "ipython3",
   "version": "3.7.4"
  }
 },
 "nbformat": 4,
 "nbformat_minor": 2
}
