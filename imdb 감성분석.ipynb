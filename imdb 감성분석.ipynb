{
 "cells": [
  {
   "cell_type": "code",
   "execution_count": 1,
   "metadata": {},
   "outputs": [
    {
     "name": "stderr",
     "output_type": "stream",
     "text": [
      "Using TensorFlow backend.\n"
     ]
    }
   ],
   "source": [
    "# 라이브러리 임포트\n",
    "\n",
    "from keras.models import Sequential\n",
    "from keras.layers import Dense, Dropout, Activation\n",
    "from keras.preprocessing import sequence\n",
    "from keras.layers import Embedding\n",
    "from keras.layers import LSTM\n",
    "from keras.layers import Conv1D, MaxPooling1D\n",
    "from keras.datasets import imdb\n"
   ]
  },
  {
   "cell_type": "code",
   "execution_count": 2,
   "metadata": {},
   "outputs": [],
   "source": [
    "import numpy\n",
    "import tensorflow as tf\n",
    "import matplotlib.pyplot as plt"
   ]
  },
  {
   "cell_type": "code",
   "execution_count": 3,
   "metadata": {},
   "outputs": [],
   "source": [
    "# seed값 설정\n",
    "\n",
    "seed=0\n",
    "numpy.random.seed(seed)\n",
    "tf.random.set_seed(seed)\n",
    "tf.random.set_seed(seed)"
   ]
  },
  {
   "cell_type": "markdown",
   "metadata": {},
   "source": [
    "# 1. 데이터 확인"
   ]
  },
  {
   "cell_type": "code",
   "execution_count": 4,
   "metadata": {},
   "outputs": [],
   "source": [
    "# 학습셋, 테스트셋 시작하기\n",
    "\n",
    "(x_train, y_train), (x_test, y_test) = imdb.load_data(num_words=1000)"
   ]
  },
  {
   "cell_type": "code",
   "execution_count": 5,
   "metadata": {},
   "outputs": [],
   "source": [
    "x_train = sequence.pad_sequences(x_train, maxlen=100)\n",
    "x_test = sequence.pad_sequences(x_test, maxlen=100)"
   ]
  },
  {
   "cell_type": "code",
   "execution_count": 6,
   "metadata": {},
   "outputs": [
    {
     "name": "stdout",
     "output_type": "stream",
     "text": [
      "25000\n",
      "25000\n"
     ]
    }
   ],
   "source": [
    "print(len(x_train))\n",
    "print(len(x_test))"
   ]
  },
  {
   "cell_type": "markdown",
   "metadata": {},
   "source": [
    "# 딥러닝 구조짜기"
   ]
  },
  {
   "cell_type": "code",
   "execution_count": 7,
   "metadata": {},
   "outputs": [
    {
     "name": "stdout",
     "output_type": "stream",
     "text": [
      "Model: \"sequential_1\"\n",
      "_________________________________________________________________\n",
      "Layer (type)                 Output Shape              Param #   \n",
      "=================================================================\n",
      "embedding_1 (Embedding)      (None, None, 100)         100000    \n",
      "_________________________________________________________________\n",
      "dropout_1 (Dropout)          (None, None, 100)         0         \n",
      "_________________________________________________________________\n",
      "conv1d_1 (Conv1D)            (None, None, 64)          32064     \n",
      "_________________________________________________________________\n",
      "max_pooling1d_1 (MaxPooling1 (None, None, 64)          0         \n",
      "_________________________________________________________________\n",
      "lstm_1 (LSTM)                (None, 32)                12416     \n",
      "_________________________________________________________________\n",
      "dense_1 (Dense)              (None, 1)                 33        \n",
      "_________________________________________________________________\n",
      "activation_1 (Activation)    (None, 1)                 0         \n",
      "=================================================================\n",
      "Total params: 144,513\n",
      "Trainable params: 144,513\n",
      "Non-trainable params: 0\n",
      "_________________________________________________________________\n"
     ]
    }
   ],
   "source": [
    "# 모델 설정\n",
    "\n",
    "model = Sequential()\n",
    "model.add(Embedding(1000,100)) # 불러온 단어 수 총 1000개, 그 중 리뷰 당 100개 단어\n",
    "model.add(Dropout(0.5)) # 과적합 방지\n",
    "model.add(Conv1D(64, 5, padding='valid', activation='relu', strides=1)) \n",
    "\n",
    "# 필터 수가 64개 -> 특징 추출이 64개를 추출하게 됨\n",
    "# padding='valid' ->출력 사이즈가 입력사이즈보다 작게 됨\n",
    "# padding='same'-> 출력 사이즈가 입력 사이즈랑 같게 됨\n",
    "\n",
    "model.add(MaxPooling1D(pool_size=4))\n",
    "\n",
    "model.add(LSTM(32))\n",
    "model.add(Dense(1))\n",
    "model.add(Activation('sigmoid'))\n",
    "\n",
    "model.summary()"
   ]
  },
  {
   "cell_type": "markdown",
   "metadata": {},
   "source": [
    "# 모델 컴파일"
   ]
  },
  {
   "cell_type": "code",
   "execution_count": 8,
   "metadata": {},
   "outputs": [
    {
     "name": "stderr",
     "output_type": "stream",
     "text": [
      "C:\\Anaconda3\\lib\\site-packages\\tensorflow_core\\python\\framework\\indexed_slices.py:424: UserWarning: Converting sparse IndexedSlices to a dense Tensor of unknown shape. This may consume a large amount of memory.\n",
      "  \"Converting sparse IndexedSlices to a dense Tensor of unknown shape. \"\n"
     ]
    },
    {
     "name": "stdout",
     "output_type": "stream",
     "text": [
      "Train on 25000 samples, validate on 25000 samples\n",
      "Epoch 1/10\n",
      "25000/25000 [==============================] - 16s 639us/step - loss: 0.4890 - accuracy: 0.7464 - val_loss: 0.3846 - val_accuracy: 0.8256\n",
      "Epoch 2/10\n",
      "25000/25000 [==============================] - 15s 607us/step - loss: 0.3733 - accuracy: 0.8326 - val_loss: 0.3603 - val_accuracy: 0.8370\n",
      "Epoch 3/10\n",
      "25000/25000 [==============================] - 15s 607us/step - loss: 0.3513 - accuracy: 0.8440 - val_loss: 0.3485 - val_accuracy: 0.8436\n",
      "Epoch 4/10\n",
      "25000/25000 [==============================] - 15s 607us/step - loss: 0.3309 - accuracy: 0.8553 - val_loss: 0.3467 - val_accuracy: 0.8439\n",
      "Epoch 5/10\n",
      "25000/25000 [==============================] - 15s 608us/step - loss: 0.3132 - accuracy: 0.8639 - val_loss: 0.3549 - val_accuracy: 0.8374\n",
      "Epoch 6/10\n",
      "25000/25000 [==============================] - 15s 613us/step - loss: 0.2952 - accuracy: 0.8742 - val_loss: 0.3450 - val_accuracy: 0.8461\n",
      "Epoch 7/10\n",
      "25000/25000 [==============================] - 15s 585us/step - loss: 0.2829 - accuracy: 0.8807 - val_loss: 0.3424 - val_accuracy: 0.8472\n",
      "Epoch 8/10\n",
      "25000/25000 [==============================] - 16s 634us/step - loss: 0.2676 - accuracy: 0.8879 - val_loss: 0.3502 - val_accuracy: 0.8430\n",
      "Epoch 9/10\n",
      "25000/25000 [==============================] - 15s 616us/step - loss: 0.2497 - accuracy: 0.8964 - val_loss: 0.3556 - val_accuracy: 0.8439\n",
      "Epoch 10/10\n",
      "25000/25000 [==============================] - 16s 630us/step - loss: 0.2395 - accuracy: 0.9018 - val_loss: 0.3832 - val_accuracy: 0.8405\n",
      "25000/25000 [==============================] - 3s 131us/step\n",
      "\n",
      " Test Accuracy : 0.8405\n"
     ]
    },
    {
     "data": {
      "image/png": "[encoded data removed]",
      "text/plain": [
       "<Figure size 432x288 with 1 Axes>"
      ]
     },
     "metadata": {
      "needs_background": "light"
     },
     "output_type": "display_data"
    },
    {
     "name": "stdout",
     "output_type": "stream",
     "text": [
      "걸린 시간: 2.6320431431134543 minutes\n",
      "25000/25000 [==============================] - 3s 130us/step\n",
      "\n",
      " Test Accuracy: 0.8405\n"
     ]
    }
   ],
   "source": [
    "import time\n",
    "start=time.time()\n",
    "\n",
    "model.compile(loss='binary_crossentropy', optimizer='adam', metrics=['accuracy'])\n",
    "\n",
    "# 모델 실행\n",
    "\n",
    "history = model.fit(x_train, y_train, batch_size=100, epochs=10, validation_data=(x_test, y_test))\n",
    "\n",
    "# 결과출력\n",
    "\n",
    "print('\\n Test Accuracy : %.4f' % (model.evaluate(x_test, y_test)[1]))\n",
    "\n",
    "# 테스트셋의 오차\n",
    "\n",
    "y_vloss = history.history['val_loss']\n",
    "\n",
    "# 학습셋의 오차\n",
    "\n",
    "y_loss = history.history['loss']\n",
    "\n",
    "# 그래프의 표현\n",
    "\n",
    "x_len = numpy.arange(len(y_loss))\n",
    "\n",
    "plt.plot(x_len, y_vloss, marker='.', c='red', label='Testset_loss')\n",
    "plt.plot(x_len, y_loss, marker='.', c='blue', label='Trainset_loss')\n",
    "\n",
    "# 그래프에 레전드 표시 \n",
    "\n",
    "plt.legend(loc='upper right')\n",
    "plt.grid()\n",
    "plt.xlabel('epoch')\n",
    "plt.ylabel('loss')\n",
    "plt.show()\n",
    "\n",
    "# 작업 걸린시간 체크\n",
    "\n",
    "end=time.time()\n",
    "elapsed_sec = end - start\n",
    "elapsed_minute = elapsed_sec/60\n",
    "print(\"걸린 시간:\", elapsed_minute, 'minutes')\n",
    "\n",
    "# 테스트 정확도 출력\n",
    "\n",
    "print('\\n Test Accuracy: %.4f' % (model.evaluate(x_test, y_test)[1]))"
   ]
  },
  {
   "cell_type": "code",
   "execution_count": null,
   "metadata": {},
   "outputs": [],
   "source": []
  }
 ],
 "metadata": {
  "kernelspec": {
   "display_name": "Python 3",
   "language": "python",
   "name": "python3"
  },
  "language_info": {
   "codemirror_mode": {
    "name": "ipython",
    "version": 3
   },
   "file_extension": ".py",
   "mimetype": "text/x-python",
   "name": "python",
   "nbconvert_exporter": "python",
   "pygments_lexer": "ipython3",
   "version": "3.7.4"
  }
 },
 "nbformat": 4,
 "nbformat_minor": 2
}
