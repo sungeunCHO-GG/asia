{
 "cells": [
  {
   "cell_type": "code",
   "execution_count": 2,
   "metadata": {},
   "outputs": [
    {
     "name": "stdout",
     "output_type": "stream",
     "text": [
      "2.3.1\n"
     ]
    }
   ],
   "source": [
    "import lightgbm\n",
    "print(lightgbm.__version__)"
   ]
  },
  {
   "cell_type": "code",
   "execution_count": 4,
   "metadata": {},
   "outputs": [],
   "source": [
    "# Breast cancer 데이터 "
   ]
  },
  {
   "cell_type": "code",
   "execution_count": 6,
   "metadata": {},
   "outputs": [],
   "source": [
    "from lightgbm import LGBMClassifier\n",
    "import pandas as pd\n",
    "import numpy as np\n",
    "from sklearn.datasets import load_breast_cancer\n",
    "from sklearn.model_selection import train_test_split\n"
   ]
  },
  {
   "cell_type": "markdown",
   "metadata": {},
   "source": [
    "# 유방암 데이터 로드하기 "
   ]
  },
  {
   "cell_type": "code",
   "execution_count": 10,
   "metadata": {},
   "outputs": [],
   "source": [
    "dataset = load_breast_cancer()\n",
    "ftr = dataset.data\n",
    "target = dataset.target"
   ]
  },
  {
   "cell_type": "code",
   "execution_count": 12,
   "metadata": {},
   "outputs": [
    {
     "data": {
      "text/plain": [
       "array([0, 0, 0, 0, 0, 0, 0, 0, 0, 0, 0, 0, 0, 0, 0, 0, 0, 0, 0, 1, 1, 1,\n",
       "       0, 0, 0, 0, 0, 0, 0, 0, 0, 0, 0, 0, 0, 0, 0, 1, 0, 0, 0, 0, 0, 0,\n",
       "       0, 0, 1, 0, 1, 1, 1, 1, 1, 0, 0, 1, 0, 0, 1, 1, 1, 1, 0, 1, 0, 0,\n",
       "       1, 1, 1, 1, 0, 1, 0, 0, 1, 0, 1, 0, 0, 1, 1, 1, 0, 0, 1, 0, 0, 0,\n",
       "       1, 1, 1, 0, 1, 1, 0, 0, 1, 1, 1, 0, 0, 1, 1, 1, 1, 0, 1, 1, 0, 1,\n",
       "       1, 1, 1, 1, 1, 1, 1, 0, 0, 0, 1, 0, 0, 1, 1, 1, 0, 0, 1, 0, 1, 0,\n",
       "       0, 1, 0, 0, 1, 1, 0, 1, 1, 0, 1, 1, 1, 1, 0, 1, 1, 1, 1, 1, 1, 1,\n",
       "       1, 1, 0, 1, 1, 1, 1, 0, 0, 1, 0, 1, 1, 0, 0, 1, 1, 0, 0, 1, 1, 1,\n",
       "       1, 0, 1, 1, 0, 0, 0, 1, 0, 1, 0, 1, 1, 1, 0, 1, 1, 0, 0, 1, 0, 0,\n",
       "       0, 0, 1, 0, 0, 0, 1, 0, 1, 0, 1, 1, 0, 1, 0, 0, 0, 0, 1, 1, 0, 0,\n",
       "       1, 1, 1, 0, 1, 1, 1, 1, 1, 0, 0, 1, 1, 0, 1, 1, 0, 0, 1, 0, 1, 1,\n",
       "       1, 1, 0, 1, 1, 1, 1, 1, 0, 1, 0, 0, 0, 0, 0, 0, 0, 0, 0, 0, 0, 0,\n",
       "       0, 0, 1, 1, 1, 1, 1, 1, 0, 1, 0, 1, 1, 0, 1, 1, 0, 1, 0, 0, 1, 1,\n",
       "       1, 1, 1, 1, 1, 1, 1, 1, 1, 1, 1, 0, 1, 1, 0, 1, 0, 1, 1, 1, 1, 1,\n",
       "       1, 1, 1, 1, 1, 1, 1, 1, 1, 0, 1, 1, 1, 0, 1, 0, 1, 1, 1, 1, 0, 0,\n",
       "       0, 1, 1, 1, 1, 0, 1, 0, 1, 0, 1, 1, 1, 0, 1, 1, 1, 1, 1, 1, 1, 0,\n",
       "       0, 0, 1, 1, 1, 1, 1, 1, 1, 1, 1, 1, 1, 0, 0, 1, 0, 0, 0, 1, 0, 0,\n",
       "       1, 1, 1, 1, 1, 0, 1, 1, 1, 1, 1, 0, 1, 1, 1, 0, 1, 1, 0, 0, 1, 1,\n",
       "       1, 1, 1, 1, 0, 1, 1, 1, 1, 1, 1, 1, 0, 1, 1, 1, 1, 1, 0, 1, 1, 0,\n",
       "       1, 1, 1, 1, 1, 1, 1, 1, 1, 1, 1, 1, 0, 1, 0, 0, 1, 0, 1, 1, 1, 1,\n",
       "       1, 0, 1, 1, 0, 1, 0, 1, 1, 0, 1, 0, 1, 1, 1, 1, 1, 1, 1, 1, 0, 0,\n",
       "       1, 1, 1, 1, 1, 1, 0, 1, 1, 1, 1, 1, 1, 1, 1, 1, 1, 0, 1, 1, 1, 1,\n",
       "       1, 1, 1, 0, 1, 0, 1, 1, 0, 1, 1, 1, 1, 1, 0, 0, 1, 0, 1, 0, 1, 1,\n",
       "       1, 1, 1, 0, 1, 1, 0, 1, 0, 1, 0, 0, 1, 1, 1, 0, 1, 1, 1, 1, 1, 1,\n",
       "       1, 1, 1, 1, 1, 0, 1, 0, 0, 1, 1, 1, 1, 1, 1, 1, 1, 1, 1, 1, 1, 1,\n",
       "       1, 1, 1, 1, 1, 1, 1, 1, 1, 1, 1, 1, 0, 0, 0, 0, 0, 0, 1])"
      ]
     },
     "execution_count": 12,
     "metadata": {},
     "output_type": "execute_result"
    }
   ],
   "source": [
    "target"
   ]
  },
  {
   "cell_type": "code",
   "execution_count": 14,
   "metadata": {},
   "outputs": [
    {
     "data": {
      "text/plain": [
       "array([[1.799e+01, 1.038e+01, 1.228e+02, ..., 2.654e-01, 4.601e-01,\n",
       "        1.189e-01],\n",
       "       [2.057e+01, 1.777e+01, 1.329e+02, ..., 1.860e-01, 2.750e-01,\n",
       "        8.902e-02],\n",
       "       [1.969e+01, 2.125e+01, 1.300e+02, ..., 2.430e-01, 3.613e-01,\n",
       "        8.758e-02],\n",
       "       ...,\n",
       "       [1.660e+01, 2.808e+01, 1.083e+02, ..., 1.418e-01, 2.218e-01,\n",
       "        7.820e-02],\n",
       "       [2.060e+01, 2.933e+01, 1.401e+02, ..., 2.650e-01, 4.087e-01,\n",
       "        1.240e-01],\n",
       "       [7.760e+00, 2.454e+01, 4.792e+01, ..., 0.000e+00, 2.871e-01,\n",
       "        7.039e-02]])"
      ]
     },
     "execution_count": 14,
     "metadata": {},
     "output_type": "execute_result"
    }
   ],
   "source": [
    "ftr"
   ]
  },
  {
   "cell_type": "markdown",
   "metadata": {},
   "source": [
    "# 데이터 학습셋, 테스트셋 분류"
   ]
  },
  {
   "cell_type": "code",
   "execution_count": 16,
   "metadata": {},
   "outputs": [],
   "source": [
    "X_train, X_test, y_train, y_test = train_test_split(ftr, target, test_size=0.2, random_state=156)"
   ]
  },
  {
   "cell_type": "code",
   "execution_count": 18,
   "metadata": {},
   "outputs": [],
   "source": [
    "lgbm_wrapper=LGBMClassifier(n_estimator=400)"
   ]
  },
  {
   "cell_type": "code",
   "execution_count": 19,
   "metadata": {},
   "outputs": [],
   "source": [
    "# 검증 데이터셋 지정(원래는 테스트셋 데이터 쓰면 안됨)\n",
    "evals = [(X_test, y_test)]"
   ]
  },
  {
   "cell_type": "markdown",
   "metadata": {},
   "source": [
    "# 학습"
   ]
  },
  {
   "cell_type": "code",
   "execution_count": 21,
   "metadata": {},
   "outputs": [
    {
     "name": "stdout",
     "output_type": "stream",
     "text": [
      "[1]\tvalid_0's binary_logloss: 0.565079\n",
      "Training until validation scores don't improve for 100 rounds\n",
      "[2]\tvalid_0's binary_logloss: 0.507451\n",
      "[3]\tvalid_0's binary_logloss: 0.458489\n",
      "[4]\tvalid_0's binary_logloss: 0.417481\n",
      "[5]\tvalid_0's binary_logloss: 0.385507\n",
      "[6]\tvalid_0's binary_logloss: 0.355846\n",
      "[7]\tvalid_0's binary_logloss: 0.330897\n",
      "[8]\tvalid_0's binary_logloss: 0.306923\n",
      "[9]\tvalid_0's binary_logloss: 0.28776\n",
      "[10]\tvalid_0's binary_logloss: 0.26917\n",
      "[11]\tvalid_0's binary_logloss: 0.250954\n",
      "[12]\tvalid_0's binary_logloss: 0.23847\n",
      "[13]\tvalid_0's binary_logloss: 0.225865\n",
      "[14]\tvalid_0's binary_logloss: 0.215076\n",
      "[15]\tvalid_0's binary_logloss: 0.205996\n",
      "[16]\tvalid_0's binary_logloss: 0.196091\n",
      "[17]\tvalid_0's binary_logloss: 0.186395\n",
      "[18]\tvalid_0's binary_logloss: 0.17942\n",
      "[19]\tvalid_0's binary_logloss: 0.174727\n",
      "[20]\tvalid_0's binary_logloss: 0.168563\n",
      "[21]\tvalid_0's binary_logloss: 0.165432\n",
      "[22]\tvalid_0's binary_logloss: 0.160356\n",
      "[23]\tvalid_0's binary_logloss: 0.155508\n",
      "[24]\tvalid_0's binary_logloss: 0.151598\n",
      "[25]\tvalid_0's binary_logloss: 0.149861\n",
      "[26]\tvalid_0's binary_logloss: 0.149873\n",
      "[27]\tvalid_0's binary_logloss: 0.147032\n",
      "[28]\tvalid_0's binary_logloss: 0.145077\n",
      "[29]\tvalid_0's binary_logloss: 0.139891\n",
      "[30]\tvalid_0's binary_logloss: 0.137416\n",
      "[31]\tvalid_0's binary_logloss: 0.138393\n",
      "[32]\tvalid_0's binary_logloss: 0.135948\n",
      "[33]\tvalid_0's binary_logloss: 0.132968\n",
      "[34]\tvalid_0's binary_logloss: 0.129697\n",
      "[35]\tvalid_0's binary_logloss: 0.131102\n",
      "[36]\tvalid_0's binary_logloss: 0.129382\n",
      "[37]\tvalid_0's binary_logloss: 0.128044\n",
      "[38]\tvalid_0's binary_logloss: 0.127325\n",
      "[39]\tvalid_0's binary_logloss: 0.128091\n",
      "[40]\tvalid_0's binary_logloss: 0.129045\n",
      "[41]\tvalid_0's binary_logloss: 0.127023\n",
      "[42]\tvalid_0's binary_logloss: 0.129314\n",
      "[43]\tvalid_0's binary_logloss: 0.129175\n",
      "[44]\tvalid_0's binary_logloss: 0.128212\n",
      "[45]\tvalid_0's binary_logloss: 0.126664\n",
      "[46]\tvalid_0's binary_logloss: 0.127662\n",
      "[47]\tvalid_0's binary_logloss: 0.126108\n",
      "[48]\tvalid_0's binary_logloss: 0.129371\n",
      "[49]\tvalid_0's binary_logloss: 0.129573\n",
      "[50]\tvalid_0's binary_logloss: 0.130876\n",
      "[51]\tvalid_0's binary_logloss: 0.131366\n",
      "[52]\tvalid_0's binary_logloss: 0.131336\n",
      "[53]\tvalid_0's binary_logloss: 0.13208\n",
      "[54]\tvalid_0's binary_logloss: 0.13306\n",
      "[55]\tvalid_0's binary_logloss: 0.132342\n",
      "[56]\tvalid_0's binary_logloss: 0.134836\n",
      "[57]\tvalid_0's binary_logloss: 0.135208\n",
      "[58]\tvalid_0's binary_logloss: 0.13328\n",
      "[59]\tvalid_0's binary_logloss: 0.134147\n",
      "[60]\tvalid_0's binary_logloss: 0.134549\n",
      "[61]\tvalid_0's binary_logloss: 0.133202\n",
      "[62]\tvalid_0's binary_logloss: 0.135726\n",
      "[63]\tvalid_0's binary_logloss: 0.134011\n",
      "[64]\tvalid_0's binary_logloss: 0.131493\n",
      "[65]\tvalid_0's binary_logloss: 0.134114\n",
      "[66]\tvalid_0's binary_logloss: 0.134525\n",
      "[67]\tvalid_0's binary_logloss: 0.131412\n",
      "[68]\tvalid_0's binary_logloss: 0.12878\n",
      "[69]\tvalid_0's binary_logloss: 0.129571\n",
      "[70]\tvalid_0's binary_logloss: 0.129671\n",
      "[71]\tvalid_0's binary_logloss: 0.129935\n",
      "[72]\tvalid_0's binary_logloss: 0.128951\n",
      "[73]\tvalid_0's binary_logloss: 0.128977\n",
      "[74]\tvalid_0's binary_logloss: 0.127121\n",
      "[75]\tvalid_0's binary_logloss: 0.128107\n",
      "[76]\tvalid_0's binary_logloss: 0.129796\n",
      "[77]\tvalid_0's binary_logloss: 0.131663\n",
      "[78]\tvalid_0's binary_logloss: 0.132483\n",
      "[79]\tvalid_0's binary_logloss: 0.131578\n",
      "[80]\tvalid_0's binary_logloss: 0.130352\n",
      "[81]\tvalid_0's binary_logloss: 0.129895\n",
      "[82]\tvalid_0's binary_logloss: 0.131587\n",
      "[83]\tvalid_0's binary_logloss: 0.132763\n",
      "[84]\tvalid_0's binary_logloss: 0.133677\n",
      "[85]\tvalid_0's binary_logloss: 0.137552\n",
      "[86]\tvalid_0's binary_logloss: 0.136055\n",
      "[87]\tvalid_0's binary_logloss: 0.137904\n",
      "[88]\tvalid_0's binary_logloss: 0.139524\n",
      "[89]\tvalid_0's binary_logloss: 0.138434\n",
      "[90]\tvalid_0's binary_logloss: 0.138402\n",
      "[91]\tvalid_0's binary_logloss: 0.139384\n",
      "[92]\tvalid_0's binary_logloss: 0.139642\n",
      "[93]\tvalid_0's binary_logloss: 0.138006\n",
      "[94]\tvalid_0's binary_logloss: 0.141612\n",
      "[95]\tvalid_0's binary_logloss: 0.142319\n",
      "[96]\tvalid_0's binary_logloss: 0.145095\n",
      "[97]\tvalid_0's binary_logloss: 0.141542\n",
      "[98]\tvalid_0's binary_logloss: 0.144993\n",
      "[99]\tvalid_0's binary_logloss: 0.147936\n",
      "[100]\tvalid_0's binary_logloss: 0.147432\n",
      "Did not meet early stopping. Best iteration is:\n",
      "[47]\tvalid_0's binary_logloss: 0.126108\n"
     ]
    },
    {
     "data": {
      "text/plain": [
       "LGBMClassifier(boosting_type='gbdt', class_weight=None, colsample_bytree=1.0,\n",
       "               importance_type='split', learning_rate=0.1, max_depth=-1,\n",
       "               min_child_samples=20, min_child_weight=0.001, min_split_gain=0.0,\n",
       "               n_estimator=400, n_estimators=100, n_jobs=-1, num_leaves=31,\n",
       "               objective=None, random_state=None, reg_alpha=0.0, reg_lambda=0.0,\n",
       "               silent=True, subsample=1.0, subsample_for_bin=200000,\n",
       "               subsample_freq=0)"
      ]
     },
     "execution_count": 21,
     "metadata": {},
     "output_type": "execute_result"
    }
   ],
   "source": [
    "lgbm_wrapper.fit(X_train, y_train, early_stopping_rounds=100, eval_metric='logloss', eval_set=evals, verbose=True)"
   ]
  },
  {
   "cell_type": "markdown",
   "metadata": {},
   "source": [
    "# 검증(혼동행렬)"
   ]
  },
  {
   "cell_type": "code",
   "execution_count": 23,
   "metadata": {},
   "outputs": [],
   "source": [
    "preds = lgbm_wrapper.predict(X_test)\n",
    "pred_proba = lgbm_wrapper.predict_proba(X_test)[:, 1]"
   ]
  },
  {
   "cell_type": "code",
   "execution_count": 34,
   "metadata": {},
   "outputs": [],
   "source": [
    "from sklearn.metrics import confusion_matrix, accuracy_score, precision_score, recall_score, f1_score, roc_auc_score\n",
    "\n",
    "# 분류 정확도 확인해주는 함수\n",
    "def get_clf_eval(y_test,pred=None, pred_porba=None):\n",
    "    confusion = confusion_matrix(y_test, pred)\n",
    "    accuracy = accuracy_score(y_test, pred)\n",
    "    precision = precision_score(y_test, pred)\n",
    "    recall = recall_score(y_test, pred)\n",
    "    roc_auc = roc_auc_score(y_test, pred)\n",
    "    f1 = f1_score(y_test, pred)\n",
    "    \n",
    "    print('혼동 행렬')\n",
    "    print(confusion)\n",
    "    print('정확도: {0: .4f}, 정밀도: {1: .4f}, 재현율: {2: .4f}, F1: {3: .4f}, AUC: {4: .4f},'.format(accuracy,\n",
    "                                                                                              precision,recall,f1,roc_auc))"
   ]
  },
  {
   "cell_type": "code",
   "execution_count": 35,
   "metadata": {},
   "outputs": [
    {
     "name": "stdout",
     "output_type": "stream",
     "text": [
      "혼동 행렬\n",
      "[[33  4]\n",
      " [ 2 75]]\n",
      "정확도:  0.9474, 정밀도:  0.9494, 재현율:  0.9740, F1:  0.9615, AUC:  0.9330,\n"
     ]
    }
   ],
   "source": [
    "get_clf_eval(y_test, preds, pred_proba )"
   ]
  },
  {
   "cell_type": "code",
   "execution_count": null,
   "metadata": {},
   "outputs": [],
   "source": []
  },
  {
   "cell_type": "code",
   "execution_count": null,
   "metadata": {},
   "outputs": [],
   "source": []
  }
 ],
 "metadata": {
  "kernelspec": {
   "display_name": "Python 3",
   "language": "python",
   "name": "python3"
  },
  "language_info": {
   "codemirror_mode": {
    "name": "ipython",
    "version": 3
   },
   "file_extension": ".py",
   "mimetype": "text/x-python",
   "name": "python",
   "nbconvert_exporter": "python",
   "pygments_lexer": "ipython3",
   "version": "3.7.4"
  }
 },
 "nbformat": 4,
 "nbformat_minor": 2
}
