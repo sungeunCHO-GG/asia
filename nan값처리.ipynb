{
 "cells": [
  {
   "cell_type": "code",
   "execution_count": 1,
   "metadata": {},
   "outputs": [],
   "source": [
    "import pandas as pd\n",
    "import numpy as np\n",
    "import matplotlib.pyplot as plt\n",
    "%matplotlib inline\n",
    "df=pd.read_csv('c:/chosungeun/df2.csv')"
   ]
  },
  {
   "cell_type": "code",
   "execution_count": 3,
   "metadata": {},
   "outputs": [
    {
     "data": {
      "text/html": [
       "<div>\n",
       "<style scoped>\n",
       "    .dataframe tbody tr th:only-of-type {\n",
       "        vertical-align: middle;\n",
       "    }\n",
       "\n",
       "    .dataframe tbody tr th {\n",
       "        vertical-align: top;\n",
       "    }\n",
       "\n",
       "    .dataframe thead th {\n",
       "        text-align: right;\n",
       "    }\n",
       "</style>\n",
       "<table border=\"1\" class=\"dataframe\">\n",
       "  <thead>\n",
       "    <tr style=\"text-align: right;\">\n",
       "      <th></th>\n",
       "      <th>Name</th>\n",
       "      <th>Date</th>\n",
       "      <th>Price</th>\n",
       "      <th>Size</th>\n",
       "      <th>유동자산계</th>\n",
       "      <th>현금및현금등가물</th>\n",
       "      <th>자본금</th>\n",
       "      <th>자본잉여금</th>\n",
       "      <th>이익잉여금</th>\n",
       "      <th>총자산증가율</th>\n",
       "      <th>...</th>\n",
       "      <th>자산총계</th>\n",
       "      <th>부채총계</th>\n",
       "      <th>자본총계</th>\n",
       "      <th>매출액</th>\n",
       "      <th>매출총이익손실</th>\n",
       "      <th>판매비와관리비</th>\n",
       "      <th>영업이익손실</th>\n",
       "      <th>당기순이익손실</th>\n",
       "      <th>경상연구개발비</th>\n",
       "      <th>개발비</th>\n",
       "    </tr>\n",
       "  </thead>\n",
       "  <tbody>\n",
       "    <tr>\n",
       "      <th>17006</th>\n",
       "      <td>삼화전자공업(주)</td>\n",
       "      <td>2013-03-01</td>\n",
       "      <td>2195.0</td>\n",
       "      <td>small</td>\n",
       "      <td>2.773560e+10</td>\n",
       "      <td>23782000.0</td>\n",
       "      <td>1.161780e+10</td>\n",
       "      <td>3.737330e+09</td>\n",
       "      <td>1.161545e+10</td>\n",
       "      <td>-1.77</td>\n",
       "      <td>...</td>\n",
       "      <td>8.204120e+10</td>\n",
       "      <td>5.557454e+10</td>\n",
       "      <td>2.646667e+10</td>\n",
       "      <td>8.748876e+09</td>\n",
       "      <td>1.664071e+09</td>\n",
       "      <td>1.204323e+09</td>\n",
       "      <td>459749000.0</td>\n",
       "      <td>-1.670450e+08</td>\n",
       "      <td>NaN</td>\n",
       "      <td>NaN</td>\n",
       "    </tr>\n",
       "    <tr>\n",
       "      <th>17007</th>\n",
       "      <td>삼화전자공업(주)</td>\n",
       "      <td>2013-04-01</td>\n",
       "      <td>1697.5</td>\n",
       "      <td>small</td>\n",
       "      <td>2.743173e+10</td>\n",
       "      <td>489000.0</td>\n",
       "      <td>1.161780e+10</td>\n",
       "      <td>3.737330e+09</td>\n",
       "      <td>-8.980399e+09</td>\n",
       "      <td>NaN</td>\n",
       "      <td>...</td>\n",
       "      <td>6.182241e+10</td>\n",
       "      <td>5.555644e+10</td>\n",
       "      <td>6.265968e+09</td>\n",
       "      <td>8.346858e+09</td>\n",
       "      <td>1.324559e+09</td>\n",
       "      <td>1.558437e+09</td>\n",
       "      <td>-233877000.0</td>\n",
       "      <td>-1.892907e+09</td>\n",
       "      <td>NaN</td>\n",
       "      <td>NaN</td>\n",
       "    </tr>\n",
       "    <tr>\n",
       "      <th>17008</th>\n",
       "      <td>삼화전자공업(주)</td>\n",
       "      <td>2014-01-01</td>\n",
       "      <td>1630.0</td>\n",
       "      <td>small</td>\n",
       "      <td>3.010073e+10</td>\n",
       "      <td>23970000.0</td>\n",
       "      <td>1.161780e+10</td>\n",
       "      <td>3.737330e+09</td>\n",
       "      <td>1.135128e+10</td>\n",
       "      <td>36.35</td>\n",
       "      <td>...</td>\n",
       "      <td>8.429657e+10</td>\n",
       "      <td>5.814586e+10</td>\n",
       "      <td>2.615071e+10</td>\n",
       "      <td>7.938676e+09</td>\n",
       "      <td>1.441821e+09</td>\n",
       "      <td>1.066409e+09</td>\n",
       "      <td>375412000.0</td>\n",
       "      <td>1.460500e+07</td>\n",
       "      <td>NaN</td>\n",
       "      <td>NaN</td>\n",
       "    </tr>\n",
       "    <tr>\n",
       "      <th>17009</th>\n",
       "      <td>삼화전자공업(주)</td>\n",
       "      <td>2014-02-01</td>\n",
       "      <td>1835.0</td>\n",
       "      <td>small</td>\n",
       "      <td>2.846785e+10</td>\n",
       "      <td>525000.0</td>\n",
       "      <td>1.161780e+10</td>\n",
       "      <td>3.737330e+09</td>\n",
       "      <td>1.050445e+10</td>\n",
       "      <td>-2.21</td>\n",
       "      <td>...</td>\n",
       "      <td>8.242992e+10</td>\n",
       "      <td>5.718000e+10</td>\n",
       "      <td>2.524992e+10</td>\n",
       "      <td>7.675436e+09</td>\n",
       "      <td>1.077417e+09</td>\n",
       "      <td>1.076309e+09</td>\n",
       "      <td>1108000.0</td>\n",
       "      <td>-8.468320e+08</td>\n",
       "      <td>NaN</td>\n",
       "      <td>NaN</td>\n",
       "    </tr>\n",
       "  </tbody>\n",
       "</table>\n",
       "<p>4 rows × 40 columns</p>\n",
       "</div>"
      ],
      "text/plain": [
       "            Name        Date   Price   Size         유동자산계    현금및현금등가물  \\\n",
       "17006  삼화전자공업(주)  2013-03-01  2195.0  small  2.773560e+10  23782000.0   \n",
       "17007  삼화전자공업(주)  2013-04-01  1697.5  small  2.743173e+10    489000.0   \n",
       "17008  삼화전자공업(주)  2014-01-01  1630.0  small  3.010073e+10  23970000.0   \n",
       "17009  삼화전자공업(주)  2014-02-01  1835.0  small  2.846785e+10    525000.0   \n",
       "\n",
       "                자본금         자본잉여금         이익잉여금  총자산증가율 ...           자산총계  \\\n",
       "17006  1.161780e+10  3.737330e+09  1.161545e+10   -1.77 ...   8.204120e+10   \n",
       "17007  1.161780e+10  3.737330e+09 -8.980399e+09     NaN ...   6.182241e+10   \n",
       "17008  1.161780e+10  3.737330e+09  1.135128e+10   36.35 ...   8.429657e+10   \n",
       "17009  1.161780e+10  3.737330e+09  1.050445e+10   -2.21 ...   8.242992e+10   \n",
       "\n",
       "               부채총계          자본총계           매출액       매출총이익손실       판매비와관리비  \\\n",
       "17006  5.557454e+10  2.646667e+10  8.748876e+09  1.664071e+09  1.204323e+09   \n",
       "17007  5.555644e+10  6.265968e+09  8.346858e+09  1.324559e+09  1.558437e+09   \n",
       "17008  5.814586e+10  2.615071e+10  7.938676e+09  1.441821e+09  1.066409e+09   \n",
       "17009  5.718000e+10  2.524992e+10  7.675436e+09  1.077417e+09  1.076309e+09   \n",
       "\n",
       "            영업이익손실       당기순이익손실  경상연구개발비  개발비  \n",
       "17006  459749000.0 -1.670450e+08      NaN  NaN  \n",
       "17007 -233877000.0 -1.892907e+09      NaN  NaN  \n",
       "17008  375412000.0  1.460500e+07      NaN  NaN  \n",
       "17009    1108000.0 -8.468320e+08      NaN  NaN  \n",
       "\n",
       "[4 rows x 40 columns]"
      ]
     },
     "execution_count": 3,
     "metadata": {},
     "output_type": "execute_result"
    }
   ],
   "source": [
    "\n",
    "df[17006:17010]"
   ]
  },
  {
   "cell_type": "code",
   "execution_count": 2,
   "metadata": {},
   "outputs": [],
   "source": [
    "df.replace(0,np.nan,inplace=True)\n",
    "df.drop('순이익증가율',axis=1,inplace=True)"
   ]
  },
  {
   "cell_type": "code",
   "execution_count": 3,
   "metadata": {
    "scrolled": false
   },
   "outputs": [
    {
     "name": "stdout",
     "output_type": "stream",
     "text": [
      "10\n",
      "20\n",
      "30\n",
      "40\n",
      "50\n",
      "60\n",
      "70\n",
      "80\n",
      "90\n",
      "[-1e+20, -4757583899.999999, -874132400.0, 224731199.99999994, 1003052800.0000002, 2144282500.0, 3833222199.9999995, 6575602400.0, 13452651000.00001, 37720600500.00006] 10\n"
     ]
    }
   ],
   "source": [
    "# bins = np.linspace(df.당기순이익손실.min(), df.당기순이익손실.max(), 10)\n",
    "bins = [float(-99999999999999999999)]\n",
    "for i in range(10,100,10):\n",
    "    print(i)\n",
    "    bins.append(np.percentile(df.당기순이익손실,i))\n",
    "print(bins, len(bins))\n"
   ]
  },
  {
   "cell_type": "code",
   "execution_count": 4,
   "metadata": {},
   "outputs": [],
   "source": [
    "df['당기순이익손실_bin'] = np.digitize(df['당기순이익손실'], bins, right=True)"
   ]
  },
  {
   "cell_type": "code",
   "execution_count": 5,
   "metadata": {},
   "outputs": [
    {
     "name": "stdout",
     "output_type": "stream",
     "text": [
      "0 0\n",
      "1 2486\n",
      "2 2486\n",
      "3 2486\n",
      "4 2486\n",
      "5 2486\n",
      "6 2486\n",
      "7 2486\n",
      "8 2486\n",
      "9 2486\n",
      "10 2486\n"
     ]
    }
   ],
   "source": [
    "for i in range(11):\n",
    "    print(i, df[df['당기순이익손실_bin']==i]['당기순이익손실_bin'].count())"
   ]
  },
  {
   "cell_type": "code",
   "execution_count": 6,
   "metadata": {},
   "outputs": [
    {
     "data": {
      "text/plain": [
       "array([ 2, 10,  1,  9,  7,  8,  6,  5,  4,  3], dtype=int64)"
      ]
     },
     "execution_count": 6,
     "metadata": {},
     "output_type": "execute_result"
    }
   ],
   "source": [
    "df.당기순이익손실_bin.unique()"
   ]
  },
  {
   "cell_type": "code",
   "execution_count": 7,
   "metadata": {},
   "outputs": [],
   "source": [
    "df.drop(17006,axis=0,inplace=True)"
   ]
  },
  {
   "cell_type": "code",
   "execution_count": 8,
   "metadata": {},
   "outputs": [],
   "source": [
    "df=df.replace(0,np.nan)"
   ]
  },
  {
   "cell_type": "code",
   "execution_count": 12,
   "metadata": {},
   "outputs": [
    {
     "data": {
      "text/plain": [
       "Index(['유동자산계', '현금및현금등가물', '자본금', '자본잉여금', '이익잉여금', '총자산증가율', '자기자본증가율',\n",
       "       '매출액증가율', '비유동자산계', '영업이익증가율', '종업원수증가율', '매출액순이익율', '부채비율', '총자본회전율',\n",
       "       '자기자본회전율', '투자자산계', '유형자산계', '무형자산계', '유동부채계', '비유동부채계', '총자본영업이익율',\n",
       "       '총자본순이익율', '자기자본순이익율', '자본금순이익율', '자기자본비율', '자산총계', '부채총계', '자본총계',\n",
       "       '매출액', '매출총이익손실', '판매비와관리비', '영업이익손실', '당기순이익손실', '경상연구개발비', '개발비'],\n",
       "      dtype='object')"
      ]
     },
     "execution_count": 12,
     "metadata": {},
     "output_type": "execute_result"
    }
   ],
   "source": [
    "columns=df.columns[4:-1]\n",
    "columns"
   ]
  },
  {
   "cell_type": "code",
   "execution_count": 14,
   "metadata": {},
   "outputs": [],
   "source": [
    "# fill missing age with median age for each title(Ms, Mrs, Miss, Others)\n",
    "\n",
    "for i in range(len(columns)):\n",
    "    \n",
    "    df[columns[i]].fillna(df.groupby('당기순이익손실_bin')[columns[i]].transform('median'), inplace=True)"
   ]
  },
  {
   "cell_type": "code",
   "execution_count": 15,
   "metadata": {},
   "outputs": [
    {
     "data": {
      "text/plain": [
       "Name             0\n",
       "Date             0\n",
       "Price            0\n",
       "Size           101\n",
       "유동자산계            0\n",
       "현금및현금등가물         0\n",
       "자본금              0\n",
       "자본잉여금            0\n",
       "이익잉여금            0\n",
       "총자산증가율           0\n",
       "자기자본증가율          0\n",
       "매출액증가율           0\n",
       "비유동자산계           0\n",
       "영업이익증가율          0\n",
       "종업원수증가율          0\n",
       "매출액순이익율          0\n",
       "부채비율             0\n",
       "총자본회전율           0\n",
       "자기자본회전율          0\n",
       "투자자산계            0\n",
       "유형자산계            0\n",
       "무형자산계            0\n",
       "유동부채계            0\n",
       "비유동부채계           0\n",
       "총자본영업이익율         0\n",
       "총자본순이익율          0\n",
       "자기자본순이익율         0\n",
       "자본금순이익율          0\n",
       "자기자본비율           0\n",
       "자산총계             0\n",
       "부채총계             0\n",
       "자본총계             0\n",
       "매출액              0\n",
       "매출총이익손실          0\n",
       "판매비와관리비          0\n",
       "영업이익손실           0\n",
       "당기순이익손실          0\n",
       "경상연구개발비          0\n",
       "개발비              0\n",
       "당기순이익손실_bin      0\n",
       "dtype: int64"
      ]
     },
     "execution_count": 15,
     "metadata": {},
     "output_type": "execute_result"
    }
   ],
   "source": [
    "df.isna().sum()"
   ]
  },
  {
   "cell_type": "code",
   "execution_count": 25,
   "metadata": {},
   "outputs": [],
   "source": [
    "df.fillna('big',inplace=True)"
   ]
  },
  {
   "cell_type": "code",
   "execution_count": 26,
   "metadata": {},
   "outputs": [],
   "source": [
    "df.to_csv('df.csv', encoding='ANSI', index=False)"
   ]
  },
  {
   "cell_type": "code",
   "execution_count": 27,
   "metadata": {},
   "outputs": [
    {
     "data": {
      "text/plain": [
       "'C:\\\\Users\\\\Kosmo_24'"
      ]
     },
     "execution_count": 27,
     "metadata": {},
     "output_type": "execute_result"
    }
   ],
   "source": [
    "pwd"
   ]
  },
  {
   "cell_type": "code",
   "execution_count": null,
   "metadata": {},
   "outputs": [],
   "source": []
  }
 ],
 "metadata": {
  "kernelspec": {
   "display_name": "Python 3",
   "language": "python",
   "name": "python3"
  },
  "language_info": {
   "codemirror_mode": {
    "name": "ipython",
    "version": 3
   },
   "file_extension": ".py",
   "mimetype": "text/x-python",
   "name": "python",
   "nbconvert_exporter": "python",
   "pygments_lexer": "ipython3",
   "version": "3.7.4"
  }
 },
 "nbformat": 4,
 "nbformat_minor": 2
}
