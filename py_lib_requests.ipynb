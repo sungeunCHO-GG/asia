{
 "cells": [
  {
   "cell_type": "code",
   "execution_count": 22,
   "metadata": {},
   "outputs": [
    {
     "name": "stdout",
     "output_type": "stream",
     "text": [
      "request ver= 2.22.0\n"
     ]
    }
   ],
   "source": [
    "import requests\n",
    "\n",
    "URL = \"https://news.naver.com/main/read.nhn?mode=LSD&mid=shm&sid1=100&oid=001&aid=0011318583\"\n",
    "\n",
    "print(\"request ver=\",requests.__version__)"
   ]
  },
  {
   "cell_type": "code",
   "execution_count": 47,
   "metadata": {},
   "outputs": [
    {
     "data": {
      "text/plain": [
       "<Response [200]>"
      ]
     },
     "execution_count": 47,
     "metadata": {},
     "output_type": "execute_result"
    }
   ],
   "source": [
    "html = requests.get(URL) ; html\n",
    "\n"
   ]
  },
  {
   "cell_type": "code",
   "execution_count": 41,
   "metadata": {},
   "outputs": [
    {
     "data": {
      "text/plain": [
       "str"
      ]
     },
     "execution_count": 41,
     "metadata": {},
     "output_type": "execute_result"
    }
   ],
   "source": [
    "type(html)"
   ]
  },
  {
   "cell_type": "code",
   "execution_count": 42,
   "metadata": {},
   "outputs": [
    {
     "data": {
      "text/plain": [
       "['__add__',\n",
       " '__class__',\n",
       " '__contains__',\n",
       " '__delattr__',\n",
       " '__dir__',\n",
       " '__doc__',\n",
       " '__eq__',\n",
       " '__format__',\n",
       " '__ge__',\n",
       " '__getattribute__',\n",
       " '__getitem__',\n",
       " '__getnewargs__',\n",
       " '__gt__',\n",
       " '__hash__',\n",
       " '__init__',\n",
       " '__init_subclass__',\n",
       " '__iter__',\n",
       " '__le__',\n",
       " '__len__',\n",
       " '__lt__',\n",
       " '__mod__',\n",
       " '__mul__',\n",
       " '__ne__',\n",
       " '__new__',\n",
       " '__reduce__',\n",
       " '__reduce_ex__',\n",
       " '__repr__',\n",
       " '__rmod__',\n",
       " '__rmul__',\n",
       " '__setattr__',\n",
       " '__sizeof__',\n",
       " '__str__',\n",
       " '__subclasshook__',\n",
       " 'capitalize',\n",
       " 'casefold',\n",
       " 'center',\n",
       " 'count',\n",
       " 'encode',\n",
       " 'endswith',\n",
       " 'expandtabs',\n",
       " 'find',\n",
       " 'format',\n",
       " 'format_map',\n",
       " 'index',\n",
       " 'isalnum',\n",
       " 'isalpha',\n",
       " 'isascii',\n",
       " 'isdecimal',\n",
       " 'isdigit',\n",
       " 'isidentifier',\n",
       " 'islower',\n",
       " 'isnumeric',\n",
       " 'isprintable',\n",
       " 'isspace',\n",
       " 'istitle',\n",
       " 'isupper',\n",
       " 'join',\n",
       " 'ljust',\n",
       " 'lower',\n",
       " 'lstrip',\n",
       " 'maketrans',\n",
       " 'partition',\n",
       " 'replace',\n",
       " 'rfind',\n",
       " 'rindex',\n",
       " 'rjust',\n",
       " 'rpartition',\n",
       " 'rsplit',\n",
       " 'rstrip',\n",
       " 'split',\n",
       " 'splitlines',\n",
       " 'startswith',\n",
       " 'strip',\n",
       " 'swapcase',\n",
       " 'title',\n",
       " 'translate',\n",
       " 'upper',\n",
       " 'zfill']"
      ]
     },
     "execution_count": 42,
     "metadata": {},
     "output_type": "execute_result"
    }
   ],
   "source": [
    "dir(html)"
   ]
  },
  {
   "cell_type": "markdown",
   "metadata": {},
   "source": [
    "# 위키백과_http_\n",
    "\n",
    "https://ko.wikipedia.org/wiki/HTTP_상태_코드\n",
    "    \n",
    "    - 1xx : information(단순정보제공)\n",
    "    - 2xx : successful(성공)\n",
    "    - 3xx : Redirect(추가정보 필요)\n",
    "    - 4xx : Client error\n",
    "    - 5xx : Server errer\n",
    "        "
   ]
  },
  {
   "cell_type": "markdown",
   "metadata": {},
   "source": [
    "# Http 메서드\n",
    "\n",
    "    -.get-> 요청 uri 정보를 가져온다\n",
    "    -.post-> 요청 uri의 리소스의 새로운 정보를 보낸다.\n",
    "    -.put-> 요청 uri에 저장될 정보를 보낸다."
   ]
  },
  {
   "cell_type": "markdown",
   "metadata": {},
   "source": [
    "# 문제 : 네이버를 접속하여 정상(코드200)이면 \"정상\"메시지와 문자열 [100:150]을 출력\n",
    "\n",
    "    - 정상이 아니면 '실패'와 실패 코드를 출력하시오.\n",
    "    \n",
    "    "
   ]
  },
  {
   "cell_type": "code",
   "execution_count": 63,
   "metadata": {},
   "outputs": [],
   "source": [
    "url1=\"https://www.naver.com\"\n",
    "\n",
    "hh = requests.get(url1)\n"
   ]
  },
  {
   "cell_type": "code",
   "execution_count": 64,
   "metadata": {},
   "outputs": [
    {
     "data": {
      "text/plain": [
       "200"
      ]
     },
     "execution_count": 64,
     "metadata": {},
     "output_type": "execute_result"
    }
   ],
   "source": [
    "hh.status_code"
   ]
  },
  {
   "cell_type": "code",
   "execution_count": 70,
   "metadata": {
    "scrolled": true
   },
   "outputs": [
    {
     "name": "stdout",
     "output_type": "stream",
     "text": [
      " content=\"origin\">\n",
      "<meta http-equiv=\"Content-Scrip\n"
     ]
    }
   ],
   "source": [
    "if hh.status_code==200:\n",
    "    print(hh.text[100:150])\n",
    "    \n",
    "else:\n",
    "    print(\"실패\")\n",
    "    print(pp_code)"
   ]
  },
  {
   "cell_type": "code",
   "execution_count": 88,
   "metadata": {
    "scrolled": false
   },
   "outputs": [
    {
     "name": "stdout",
     "output_type": "stream",
     "text": [
      "img = https://imgnews.pstatic.net/image/origin/449/2020/01/07/184288.jpg?type=nf106_72\n",
      "-----------------------\n",
      "img = https://imgnews.pstatic.net/image/origin/119/2020/01/07/2375252.jpg?type=nf106_72\n",
      "-----------------------\n",
      "img = https://imgnews.pstatic.net/image/origin/002/2020/01/07/2117440.jpg?type=nf106_72\n",
      "-----------------------\n",
      "img = https://imgnews.pstatic.net/image/origin/009/2020/01/07/4495882.jpg?type=nf106_72\n",
      "-----------------------\n",
      "No image\n",
      "img = https://imgnews.pstatic.net/image/origin/016/2020/01/07/1621487.jpg?type=nf106_72\n",
      "-----------------------\n",
      "img = https://imgnews.pstatic.net/image/origin/079/2020/01/07/3308846.jpg?type=nf106_72\n",
      "-----------------------\n",
      "img = https://imgnews.pstatic.net/image/origin/030/2020/01/07/2861051.jpg?type=nf106_72\n",
      "-----------------------\n",
      "img = https://imgnews.pstatic.net/image/origin/022/2020/01/07/3428143.jpg?type=nf106_72\n",
      "-----------------------\n",
      "img = https://imgnews.pstatic.net/image/origin/009/2020/01/07/4495881.jpg?type=nf106_72\n",
      "-----------------------\n"
     ]
    }
   ],
   "source": [
    "import requests\n",
    "\n",
    "from bs4 import BeautifulSoup\n",
    "\n",
    "url = \"http://news.naver.com/main/list.nhn?mode=LSD&mid=sec&sid1=001\"\n",
    "\n",
    "html = requests.get(url).text\n",
    "\n",
    "soup =BeautifulSoup(html, \"html.parser\")\n",
    "\n",
    "all=soup.find(\"ul\", {\"class\":\"type06_headline\"})\n",
    "\n",
    "dl=all.find_all(\"dl\")\n",
    "\n",
    "for item2 in dl:\n",
    "    \n",
    "    try:\n",
    "        \n",
    "        img=item2.find(\"dt\", {\"class\":\"photo\"}).find(\"img\")\n",
    "        \n",
    "        print(\"img =\", img[\"src\"])\n",
    "        \n",
    "        print(\"-----------------------\")\n",
    "        \n",
    "    except:\n",
    "        \n",
    "        print(\"No image\")"
   ]
  },
  {
   "cell_type": "code",
   "execution_count": 89,
   "metadata": {},
   "outputs": [
    {
     "name": "stdout",
     "output_type": "stream",
     "text": [
      "https://news.naver.com/main/read.nhn?mode=LSD&mid=sec&sid1=001&oid=449&aid=0000184288\n",
      " [풀영상]文 “김정은 답방 여건 갖춰지게 남북 함께 노력해야”\r\n",
      "https://news.naver.com/main/read.nhn?mode=LSD&mid=sec&sid1=001&oid=119&aid=0002375252\n",
      " <포토>목 축이는 정세균 국무총리 후보자\r\n",
      "https://news.naver.com/main/read.nhn?mode=LSD&mid=sec&sid1=001&oid=002&aid=0002117440\n",
      " 동해시, 2020년 주민등록 사실조사 실시\r\n",
      "https://news.naver.com/main/read.nhn?mode=LSD&mid=sec&sid1=001&oid=009&aid=0004495882\n",
      " 엔픽셀, 300억원 규모 시리즈A 투자 유치…그랑사가 상반기 공개 예정\r\n",
      "https://news.naver.com/main/read.nhn?mode=LSD&mid=sec&sid1=001&oid=056&aid=0010780078\n",
      " 여야, 정세균 청문회 시작부터 자료제출 공방\r\n",
      "https://news.naver.com/main/read.nhn?mode=LSD&mid=sec&sid1=001&oid=016&aid=0001621487\n",
      " [전문] 문대통령 신년사 “김정은 답방 여건 위해 노력…2030년 수출 4강”\r\n",
      "https://news.naver.com/main/read.nhn?mode=LSD&mid=sec&sid1=001&oid=079&aid=0003308846\n",
      " 경찰, 부산 기장군 '불법 폐기물 매립' 수사 착수\r\n",
      "https://news.naver.com/main/read.nhn?mode=LSD&mid=sec&sid1=001&oid=030&aid=0002861051\n",
      " LG유플러스, 해외여행 통신비 절감…'U+제로 로밍' 이벤트\r\n",
      "https://news.naver.com/main/read.nhn?mode=LSD&mid=sec&sid1=001&oid=022&aid=0003428143\n",
      " 한국사능력검정시험 원서 접수 시작부터 홈페이지 마비... 응시자들 '폭발'\r\n",
      "https://news.naver.com/main/read.nhn?mode=LSD&mid=sec&sid1=001&oid=009&aid=0004495881\n",
      " 마인드리더, 용인대 재학생 초청 중소기업 탐방프로그램 성료\r\n",
      "No Content\n",
      "No Content\n",
      "No Content\n",
      "No Content\n",
      "No Content\n",
      "No Content\n",
      "No Content\n",
      "No Content\n",
      "No Content\n",
      "No Content\n"
     ]
    }
   ],
   "source": [
    "\n",
    "dl = all.find_all(\"dl\")\n",
    "\n",
    "for item2 in dl:\n",
    "    link = item2.find(\"dt\", {\"class\": \"\"}).find(\"a\")\n",
    "    \n",
    "    print(link['href'])\n",
    "    \n",
    "    print(link.text.replace('\\t','').replace(\"\\n\",\"\")[1:len(link.text)+1])\n",
    "    \n",
    "dl= all.find_all(\"dl\")\n",
    "\n",
    "for item2 in dl:\n",
    "    \n",
    "    try:\n",
    "        content = item2.find(\"dd\")\n",
    "        \n",
    "        print(content.text.replcae(\"\\t\",\"\").replace(\"\\n\",\"\").split(\"...\")[0])\n",
    "        \n",
    "    except:\n",
    "        print(\"No Content\")"
   ]
  },
  {
   "cell_type": "code",
   "execution_count": null,
   "metadata": {},
   "outputs": [],
   "source": []
  }
 ],
 "metadata": {
  "kernelspec": {
   "display_name": "Python 3",
   "language": "python",
   "name": "python3"
  },
  "language_info": {
   "codemirror_mode": {
    "name": "ipython",
    "version": 3
   },
   "file_extension": ".py",
   "mimetype": "text/x-python",
   "name": "python",
   "nbconvert_exporter": "python",
   "pygments_lexer": "ipython3",
   "version": "3.7.4"
  }
 },
 "nbformat": 4,
 "nbformat_minor": 2
}
