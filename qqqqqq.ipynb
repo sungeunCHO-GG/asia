{
 "cells": [
  {
   "cell_type": "code",
   "execution_count": 2,
   "metadata": {},
   "outputs": [],
   "source": [
    "import pandas as pd\n",
    "import numpy as np\n",
    "import matplotlib.pyplot as plt\n",
    "%matplotlib inline\n",
    "import os\n",
    "df=pd.read_csv('c:/chosungeun/date.csv')\n",
    "\n",
    "os.chdir('C:\\\\Users\\\\Kosmo_24\\\\2015시가')\n",
    "\n",
    "os.listdir()\n",
    "\n",
    "pd.read_csv(i, encoding='cp949',header=None,engine='python')\n",
    "\n",
    "fname = os.listdir()\n",
    "list_file = []\n",
    "for i in fname:\n",
    "    list_file.append(pd.read_csv(i, encoding='cp949',header=None,engine='python'))\n",
    "    \n",
    "list_file\n",
    "\n",
    "len(list_file)\n",
    "\n",
    "days = []\n",
    "for i in range(len(list_file)):\n",
    "    days.append(list_file[i].iloc[0,3:])    \n",
    "    \n"
   ]
  },
  {
   "cell_type": "code",
   "execution_count": 72,
   "metadata": {
    "scrolled": false
   },
   "outputs": [
    {
     "data": {
      "text/plain": [
       "1663569"
      ]
     },
     "execution_count": 72,
     "metadata": {},
     "output_type": "execute_result"
    }
   ],
   "source": [
    "total = []\n",
    "for i in days[:-1]:\n",
    "    total.extend(i)\n",
    "quat = total * 747\n",
    "len(quat)"
   ]
  },
  {
   "cell_type": "code",
   "execution_count": 48,
   "metadata": {},
   "outputs": [],
   "source": [
    "q1 = []\n",
    "q2 = []\n",
    "q3 = []\n",
    "q4 = []\n",
    "\n",
    "for i in days:\n",
    "    a = 0\n",
    "    a += i.apply(lambda x: x[4:6].count('01')).sum()\n",
    "    a += i.apply(lambda x: x[4:6].count('02')).sum()\n",
    "    a += i.apply(lambda x: x[4:6].count('03')).sum()\n",
    "    q1.append(a)\n",
    "    a = 0\n",
    "    a += i.apply(lambda x: x[4:6].count('04')).sum()\n",
    "    a += i.apply(lambda x: x[4:6].count('05')).sum()\n",
    "    a += i.apply(lambda x: x[4:6].count('06')).sum()\n",
    "    q2.append(a)\n",
    "    a = 0\n",
    "    a += i.apply(lambda x: x[4:6].count('07')).sum()\n",
    "    a += i.apply(lambda x: x[4:6].count('08')).sum()\n",
    "    a += i.apply(lambda x: x[4:6].count('09')).sum()\n",
    "    q3.append(a)\n",
    "    a = 0\n",
    "    a += i.apply(lambda x: x[4:6].count('10')).sum()\n",
    "    a += i.apply(lambda x: x[4:6].count('11')).sum()\n",
    "    a += i.apply(lambda x: x[4:6].count('12')).sum()\n",
    "    q4.append(a)\n",
    "    "
   ]
  },
  {
   "cell_type": "code",
   "execution_count": 49,
   "metadata": {},
   "outputs": [
    {
     "name": "stdout",
     "output_type": "stream",
     "text": [
      "10 [61, 60, 62, 61, 61, 60, 60, 62, 61, 59]\n"
     ]
    }
   ],
   "source": [
    "print(len(q1), q1)"
   ]
  },
  {
   "cell_type": "code",
   "execution_count": 51,
   "metadata": {},
   "outputs": [
    {
     "name": "stdout",
     "output_type": "stream",
     "text": [
      "[63, 62, 62, 62, 60, 62, 62, 60, 61, 62]\n",
      "[63, 63, 64, 62, 63, 64, 62, 64, 61, 63]\n",
      "[65, 63, 62, 62, 62, 63, 63, 57, 62, 62]\n"
     ]
    }
   ],
   "source": [
    "print(q2,q3,q4, sep='\\n')"
   ]
  },
  {
   "cell_type": "code",
   "execution_count": 52,
   "metadata": {},
   "outputs": [],
   "source": [
    "qt = [q1,q2,q3,q4]"
   ]
  },
  {
   "cell_type": "code",
   "execution_count": 53,
   "metadata": {},
   "outputs": [
    {
     "data": {
      "text/plain": [
       "[[61, 60, 62, 61, 61, 60, 60, 62, 61, 59],\n",
       " [63, 62, 62, 62, 60, 62, 62, 60, 61, 62],\n",
       " [63, 63, 64, 62, 63, 64, 62, 64, 61, 63],\n",
       " [65, 63, 62, 62, 62, 63, 63, 57, 62, 62]]"
      ]
     },
     "execution_count": 53,
     "metadata": {},
     "output_type": "execute_result"
    }
   ],
   "source": [
    "for i in qt:\n",
    "    for j in range(len(i[0])):\n",
    "        i[j]"
   ]
  },
  {
   "cell_type": "code",
   "execution_count": 64,
   "metadata": {},
   "outputs": [
    {
     "data": {
      "text/plain": [
       "array([670, 669, 669, 669, 667, 669, 669, 667, 668, 669], dtype=int64)"
      ]
     },
     "execution_count": 64,
     "metadata": {},
     "output_type": "execute_result"
    }
   ],
   "source": [
    "sum()"
   ]
  },
  {
   "cell_type": "code",
   "execution_count": null,
   "metadata": {},
   "outputs": [],
   "source": []
  }
 ],
 "metadata": {
  "kernelspec": {
   "display_name": "Python 3",
   "language": "python",
   "name": "python3"
  },
  "language_info": {
   "codemirror_mode": {
    "name": "ipython",
    "version": 3
   },
   "file_extension": ".py",
   "mimetype": "text/x-python",
   "name": "python",
   "nbconvert_exporter": "python",
   "pygments_lexer": "ipython3",
   "version": "3.7.4"
  }
 },
 "nbformat": 4,
 "nbformat_minor": 2
}
