{
 "cells": [
  {
   "cell_type": "code",
   "execution_count": 27,
   "metadata": {},
   "outputs": [],
   "source": [
    "import pandas as pd\n",
    "import matplotlib.pyplot as plt"
   ]
  },
  {
   "cell_type": "code",
   "execution_count": 107,
   "metadata": {
    "scrolled": false
   },
   "outputs": [],
   "source": [
    "df=pd.read_csv('c:/chosungeun/df.csv',encoding='cp949')"
   ]
  },
  {
   "cell_type": "code",
   "execution_count": 108,
   "metadata": {},
   "outputs": [
    {
     "data": {
      "text/html": [
       "<div>\n",
       "<style scoped>\n",
       "    .dataframe tbody tr th:only-of-type {\n",
       "        vertical-align: middle;\n",
       "    }\n",
       "\n",
       "    .dataframe tbody tr th {\n",
       "        vertical-align: top;\n",
       "    }\n",
       "\n",
       "    .dataframe thead th {\n",
       "        text-align: right;\n",
       "    }\n",
       "</style>\n",
       "<table border=\"1\" class=\"dataframe\">\n",
       "  <thead>\n",
       "    <tr style=\"text-align: right;\">\n",
       "      <th></th>\n",
       "      <th>Name</th>\n",
       "      <th>Date</th>\n",
       "      <th>유동자산계</th>\n",
       "      <th>현금및현금등가물</th>\n",
       "      <th>자본금</th>\n",
       "      <th>자본잉여금</th>\n",
       "      <th>이익잉여금</th>\n",
       "      <th>총자산증가율</th>\n",
       "      <th>자기자본증가율</th>\n",
       "      <th>매출액증가율</th>\n",
       "      <th>...</th>\n",
       "      <th>자기자본비율</th>\n",
       "      <th>자산총계</th>\n",
       "      <th>부채총계</th>\n",
       "      <th>자본총계</th>\n",
       "      <th>매출액</th>\n",
       "      <th>매출총이익손실</th>\n",
       "      <th>판매비와관리비</th>\n",
       "      <th>영업이익손실</th>\n",
       "      <th>당기순이익손실</th>\n",
       "      <th>Price</th>\n",
       "    </tr>\n",
       "  </thead>\n",
       "  <tbody>\n",
       "    <tr>\n",
       "      <th>0</th>\n",
       "      <td>한국가스공사</td>\n",
       "      <td>201001</td>\n",
       "      <td>8.630000e+12</td>\n",
       "      <td>3.330000e+11</td>\n",
       "      <td>3.860000e+11</td>\n",
       "      <td>1.380000e+12</td>\n",
       "      <td>2.920000e+12</td>\n",
       "      <td>-0.44</td>\n",
       "      <td>6.97</td>\n",
       "      <td>-4.74</td>\n",
       "      <td>...</td>\n",
       "      <td>24.18</td>\n",
       "      <td>2.283250e+13</td>\n",
       "      <td>1.731160e+13</td>\n",
       "      <td>5.520930e+12</td>\n",
       "      <td>7.366700e+12</td>\n",
       "      <td>6.829970e+11</td>\n",
       "      <td>6.148833e+10</td>\n",
       "      <td>6.215080e+11</td>\n",
       "      <td>4.181410e+11</td>\n",
       "      <td>48050.0</td>\n",
       "    </tr>\n",
       "    <tr>\n",
       "      <th>1</th>\n",
       "      <td>한국가스공사</td>\n",
       "      <td>201101</td>\n",
       "      <td>8.320000e+12</td>\n",
       "      <td>2.660000e+11</td>\n",
       "      <td>3.860000e+11</td>\n",
       "      <td>6.910000e+11</td>\n",
       "      <td>5.900000e+12</td>\n",
       "      <td>21.49</td>\n",
       "      <td>45.45</td>\n",
       "      <td>19.31</td>\n",
       "      <td>...</td>\n",
       "      <td>26.11</td>\n",
       "      <td>2.951250e+13</td>\n",
       "      <td>2.180810e+13</td>\n",
       "      <td>7.704360e+12</td>\n",
       "      <td>8.789380e+12</td>\n",
       "      <td>7.063660e+11</td>\n",
       "      <td>6.922196e+10</td>\n",
       "      <td>6.371440e+11</td>\n",
       "      <td>4.171650e+11</td>\n",
       "      <td>35525.0</td>\n",
       "    </tr>\n",
       "    <tr>\n",
       "      <th>2</th>\n",
       "      <td>한국가스공사</td>\n",
       "      <td>201201</td>\n",
       "      <td>1.230000e+13</td>\n",
       "      <td>1.530000e+11</td>\n",
       "      <td>3.860000e+11</td>\n",
       "      <td>6.910000e+11</td>\n",
       "      <td>6.040000e+12</td>\n",
       "      <td>6.72</td>\n",
       "      <td>5.24</td>\n",
       "      <td>33.89</td>\n",
       "      <td>...</td>\n",
       "      <td>21.24</td>\n",
       "      <td>3.654030e+13</td>\n",
       "      <td>2.878050e+13</td>\n",
       "      <td>7.759730e+12</td>\n",
       "      <td>1.176810e+13</td>\n",
       "      <td>7.922030e+11</td>\n",
       "      <td>7.241790e+10</td>\n",
       "      <td>7.197860e+11</td>\n",
       "      <td>4.138100e+11</td>\n",
       "      <td>38100.0</td>\n",
       "    </tr>\n",
       "    <tr>\n",
       "      <th>3</th>\n",
       "      <td>한국가스공사</td>\n",
       "      <td>201301</td>\n",
       "      <td>1.130000e+13</td>\n",
       "      <td>6.646733e+10</td>\n",
       "      <td>3.860000e+11</td>\n",
       "      <td>6.910000e+11</td>\n",
       "      <td>6.160000e+12</td>\n",
       "      <td>1.79</td>\n",
       "      <td>-0.78</td>\n",
       "      <td>2.71</td>\n",
       "      <td>...</td>\n",
       "      <td>19.73</td>\n",
       "      <td>4.006260e+13</td>\n",
       "      <td>3.215860e+13</td>\n",
       "      <td>7.903900e+12</td>\n",
       "      <td>1.208650e+13</td>\n",
       "      <td>8.873720e+11</td>\n",
       "      <td>7.708452e+10</td>\n",
       "      <td>8.102880e+11</td>\n",
       "      <td>1.544770e+11</td>\n",
       "      <td>70900.0</td>\n",
       "    </tr>\n",
       "    <tr>\n",
       "      <th>4</th>\n",
       "      <td>한국가스공사</td>\n",
       "      <td>201401</td>\n",
       "      <td>1.330000e+13</td>\n",
       "      <td>1.390000e+11</td>\n",
       "      <td>4.620000e+11</td>\n",
       "      <td>1.320000e+12</td>\n",
       "      <td>6.130000e+12</td>\n",
       "      <td>4.70</td>\n",
       "      <td>4.53</td>\n",
       "      <td>2.76</td>\n",
       "      <td>...</td>\n",
       "      <td>20.06</td>\n",
       "      <td>4.425930e+13</td>\n",
       "      <td>3.537900e+13</td>\n",
       "      <td>8.880390e+12</td>\n",
       "      <td>1.242020e+13</td>\n",
       "      <td>7.659510e+11</td>\n",
       "      <td>6.998528e+10</td>\n",
       "      <td>6.959660e+11</td>\n",
       "      <td>3.990280e+11</td>\n",
       "      <td>64400.0</td>\n",
       "    </tr>\n",
       "  </tbody>\n",
       "</table>\n",
       "<p>5 rows × 37 columns</p>\n",
       "</div>"
      ],
      "text/plain": [
       "     Name    Date         유동자산계      현금및현금등가물           자본금         자본잉여금  \\\n",
       "0  한국가스공사  201001  8.630000e+12  3.330000e+11  3.860000e+11  1.380000e+12   \n",
       "1  한국가스공사  201101  8.320000e+12  2.660000e+11  3.860000e+11  6.910000e+11   \n",
       "2  한국가스공사  201201  1.230000e+13  1.530000e+11  3.860000e+11  6.910000e+11   \n",
       "3  한국가스공사  201301  1.130000e+13  6.646733e+10  3.860000e+11  6.910000e+11   \n",
       "4  한국가스공사  201401  1.330000e+13  1.390000e+11  4.620000e+11  1.320000e+12   \n",
       "\n",
       "          이익잉여금  총자산증가율  자기자본증가율  매출액증가율   ...     자기자본비율          자산총계  \\\n",
       "0  2.920000e+12   -0.44     6.97   -4.74   ...      24.18  2.283250e+13   \n",
       "1  5.900000e+12   21.49    45.45   19.31   ...      26.11  2.951250e+13   \n",
       "2  6.040000e+12    6.72     5.24   33.89   ...      21.24  3.654030e+13   \n",
       "3  6.160000e+12    1.79    -0.78    2.71   ...      19.73  4.006260e+13   \n",
       "4  6.130000e+12    4.70     4.53    2.76   ...      20.06  4.425930e+13   \n",
       "\n",
       "           부채총계          자본총계           매출액       매출총이익손실       판매비와관리비  \\\n",
       "0  1.731160e+13  5.520930e+12  7.366700e+12  6.829970e+11  6.148833e+10   \n",
       "1  2.180810e+13  7.704360e+12  8.789380e+12  7.063660e+11  6.922196e+10   \n",
       "2  2.878050e+13  7.759730e+12  1.176810e+13  7.922030e+11  7.241790e+10   \n",
       "3  3.215860e+13  7.903900e+12  1.208650e+13  8.873720e+11  7.708452e+10   \n",
       "4  3.537900e+13  8.880390e+12  1.242020e+13  7.659510e+11  6.998528e+10   \n",
       "\n",
       "         영업이익손실       당기순이익손실    Price  \n",
       "0  6.215080e+11  4.181410e+11  48050.0  \n",
       "1  6.371440e+11  4.171650e+11  35525.0  \n",
       "2  7.197860e+11  4.138100e+11  38100.0  \n",
       "3  8.102880e+11  1.544770e+11  70900.0  \n",
       "4  6.959660e+11  3.990280e+11  64400.0  \n",
       "\n",
       "[5 rows x 37 columns]"
      ]
     },
     "execution_count": 108,
     "metadata": {},
     "output_type": "execute_result"
    }
   ],
   "source": [
    "df.head(5)"
   ]
  },
  {
   "cell_type": "code",
   "execution_count": 115,
   "metadata": {},
   "outputs": [
    {
     "data": {
      "text/plain": [
       "Index(['유동자산계', '현금및현금등가물', '자본금', '자본잉여금', '이익잉여금', '총자산증가율', '자기자본증가율',\n",
       "       '매출액증가율', '비유동자산계', '영업이익증가율', '순이익증가율', '종업원수증가율', '매출액순이익율', '부채비율',\n",
       "       '총자본회전율', '자기자본회전율', '투자자산계', '유형자산계', '무형자산계', '유동부채계', '비유동부채계',\n",
       "       '총자본영업이익율', '총자본순이익율', '자기자본순이익율', '자본금순이익율', '자기자본비율', '자산총계', '부채총계',\n",
       "       '자본총계', '매출액', '매출총이익손실', '판매비와관리비', '영업이익손실', '당기순이익손실'],\n",
       "      dtype='object')"
      ]
     },
     "execution_count": 115,
     "metadata": {},
     "output_type": "execute_result"
    }
   ],
   "source": [
    "columns=df.columns\n",
    "columns=columns[2:-1]\n",
    "columns"
   ]
  },
  {
   "cell_type": "code",
   "execution_count": 138,
   "metadata": {},
   "outputs": [
    {
     "data": {
      "text/plain": [
       "8630000000000.0"
      ]
     },
     "execution_count": 138,
     "metadata": {},
     "output_type": "execute_result"
    }
   ],
   "source": [
    "float(df1[0])"
   ]
  },
  {
   "cell_type": "code",
   "execution_count": 140,
   "metadata": {},
   "outputs": [
    {
     "name": "stdout",
     "output_type": "stream",
     "text": [
      "Help on method apply in module pandas.core.series:\n",
      "\n",
      "apply(func, convert_dtype=True, args=(), **kwds) method of pandas.core.series.Series instance\n",
      "    Invoke function on values of Series. Can be ufunc (a NumPy function\n",
      "    that applies to the entire Series) or a Python function that only works\n",
      "    on single values\n",
      "    \n",
      "    Parameters\n",
      "    ----------\n",
      "    func : function\n",
      "    convert_dtype : boolean, default True\n",
      "        Try to find better dtype for elementwise function results. If\n",
      "        False, leave as dtype=object\n",
      "    args : tuple\n",
      "        Positional arguments to pass to function in addition to the value\n",
      "    Additional keyword arguments will be passed as keywords to the function\n",
      "    \n",
      "    Returns\n",
      "    -------\n",
      "    y : Series or DataFrame if func returns a Series\n",
      "    \n",
      "    See also\n",
      "    --------\n",
      "    Series.map: For element-wise operations\n",
      "    Series.agg: only perform aggregating type operations\n",
      "    Series.transform: only perform transformating type operations\n",
      "    \n",
      "    Examples\n",
      "    --------\n",
      "    \n",
      "    Create a series with typical summer temperatures for each city.\n",
      "    \n",
      "    >>> import pandas as pd\n",
      "    >>> import numpy as np\n",
      "    >>> series = pd.Series([20, 21, 12], index=['London',\n",
      "    ... 'New York','Helsinki'])\n",
      "    >>> series\n",
      "    London      20\n",
      "    New York    21\n",
      "    Helsinki    12\n",
      "    dtype: int64\n",
      "    \n",
      "    Square the values by defining a function and passing it as an\n",
      "    argument to ``apply()``.\n",
      "    \n",
      "    >>> def square(x):\n",
      "    ...     return x**2\n",
      "    >>> series.apply(square)\n",
      "    London      400\n",
      "    New York    441\n",
      "    Helsinki    144\n",
      "    dtype: int64\n",
      "    \n",
      "    Square the values by passing an anonymous function as an\n",
      "    argument to ``apply()``.\n",
      "    \n",
      "    >>> series.apply(lambda x: x**2)\n",
      "    London      400\n",
      "    New York    441\n",
      "    Helsinki    144\n",
      "    dtype: int64\n",
      "    \n",
      "    Define a custom function that needs additional positional\n",
      "    arguments and pass these additional arguments using the\n",
      "    ``args`` keyword.\n",
      "    \n",
      "    >>> def subtract_custom_value(x, custom_value):\n",
      "    ...     return x-custom_value\n",
      "    \n",
      "    >>> series.apply(subtract_custom_value, args=(5,))\n",
      "    London      15\n",
      "    New York    16\n",
      "    Helsinki     7\n",
      "    dtype: int64\n",
      "    \n",
      "    Define a custom function that takes keyword arguments\n",
      "    and pass these arguments to ``apply``.\n",
      "    \n",
      "    >>> def add_custom_values(x, **kwargs):\n",
      "    ...     for month in kwargs:\n",
      "    ...         x+=kwargs[month]\n",
      "    ...     return x\n",
      "    \n",
      "    >>> series.apply(add_custom_values, june=30, july=20, august=25)\n",
      "    London      95\n",
      "    New York    96\n",
      "    Helsinki    87\n",
      "    dtype: int64\n",
      "    \n",
      "    Use a function from the Numpy library.\n",
      "    \n",
      "    >>> series.apply(np.log)\n",
      "    London      2.995732\n",
      "    New York    3.044522\n",
      "    Helsinki    2.484907\n",
      "    dtype: float64\n",
      "\n"
     ]
    }
   ],
   "source": [
    "help(df1.apply)"
   ]
  },
  {
   "cell_type": "code",
   "execution_count": 146,
   "metadata": {},
   "outputs": [
    {
     "data": {
      "text/plain": [
       "{'whiskers': [<matplotlib.lines.Line2D at 0x1c8b4dc5808>,\n",
       "  <matplotlib.lines.Line2D at 0x1c8b4dc5248>],\n",
       " 'caps': [<matplotlib.lines.Line2D at 0x1c8b49c4ac8>,\n",
       "  <matplotlib.lines.Line2D at 0x1c8b4dc4688>],\n",
       " 'boxes': [<matplotlib.lines.Line2D at 0x1c8b4e13508>],\n",
       " 'medians': [<matplotlib.lines.Line2D at 0x1c8b4ea0a48>],\n",
       " 'fliers': [<matplotlib.lines.Line2D at 0x1c8b4f46588>],\n",
       " 'means': []}"
      ]
     },
     "execution_count": 146,
     "metadata": {},
     "output_type": "execute_result"
    },
    {
     "data": {
      "image/png": "[encoded data removed]",
      "text/plain": [
       "<Figure size 432x288 with 1 Axes>"
      ]
     },
     "metadata": {
      "needs_background": "light"
     },
     "output_type": "display_data"
    }
   ],
   "source": [
    "plt.boxplot(df1)"
   ]
  },
  {
   "cell_type": "code",
   "execution_count": 141,
   "metadata": {},
   "outputs": [],
   "source": [
    "df1=df[df['유동자산계']!=0]['유동자산계']\n",
    "df1 = df1.apply(lambda x: float(x))"
   ]
  },
  {
   "cell_type": "code",
   "execution_count": 145,
   "metadata": {},
   "outputs": [
    {
     "data": {
      "text/plain": [
       "0        8.630000e+12\n",
       "1        8.320000e+12\n",
       "2        1.230000e+13\n",
       "3        1.130000e+13\n",
       "4        1.330000e+13\n",
       "5        1.180000e+13\n",
       "6        9.270000e+12\n",
       "7        7.570000e+12\n",
       "8        7.200000e+12\n",
       "9        1.950000e+12\n",
       "10       2.680000e+12\n",
       "11       2.560000e+12\n",
       "12       2.940000e+12\n",
       "13       2.980000e+12\n",
       "14       2.960000e+12\n",
       "15       4.030000e+12\n",
       "16       4.320000e+12\n",
       "17       4.810000e+12\n",
       "18       2.180000e+11\n",
       "19       1.570000e+11\n",
       "20       2.520000e+11\n",
       "21       3.420000e+11\n",
       "22       2.830000e+11\n",
       "23       5.033927e+10\n",
       "24       4.550194e+10\n",
       "25       2.528802e+10\n",
       "26       4.314670e+10\n",
       "27       5.795843e+10\n",
       "28       7.439961e+10\n",
       "29       8.823995e+10\n",
       "             ...     \n",
       "24830    1.870000e+11\n",
       "24831    2.980000e+11\n",
       "24832    2.880000e+11\n",
       "24833    3.390000e+11\n",
       "24834    3.660000e+11\n",
       "24835    3.900000e+11\n",
       "24836    1.120000e+11\n",
       "24837    1.560000e+11\n",
       "24838    2.760000e+11\n",
       "24839    2.820000e+11\n",
       "24840    3.020000e+11\n",
       "24841    9.673166e+10\n",
       "24842    1.150000e+11\n",
       "24843    1.110000e+11\n",
       "24844    1.570000e+11\n",
       "24845    4.355300e+10\n",
       "24846    3.090000e+11\n",
       "24847    3.630000e+11\n",
       "24848    3.540000e+11\n",
       "24849    4.240000e+11\n",
       "24850    3.550000e+11\n",
       "24851    8.490000e+11\n",
       "24852    8.590000e+11\n",
       "24853    8.890000e+11\n",
       "24854    7.240000e+11\n",
       "24855    7.770000e+11\n",
       "24856    1.020000e+11\n",
       "24857    9.341476e+10\n",
       "24858    9.416758e+10\n",
       "24859    8.815972e+10\n",
       "Name: 유동자산계, Length: 23408, dtype: float64"
      ]
     },
     "execution_count": 145,
     "metadata": {},
     "output_type": "execute_result"
    }
   ],
   "source": [
    "df1.apply(lambda x: float(x), convert_dtype=\"float\")"
   ]
  },
  {
   "cell_type": "code",
   "execution_count": 111,
   "metadata": {},
   "outputs": [],
   "source": [
    "columns=df.columns\n",
    "columns=columns[2:-1]\n",
    "columns=list(columns)\n",
    "A = -3.291567e+10"
   ]
  },
  {
   "cell_type": "code",
   "execution_count": 112,
   "metadata": {},
   "outputs": [
    {
     "data": {
      "text/html": [
       "<div>\n",
       "<style scoped>\n",
       "    .dataframe tbody tr th:only-of-type {\n",
       "        vertical-align: middle;\n",
       "    }\n",
       "\n",
       "    .dataframe tbody tr th {\n",
       "        vertical-align: top;\n",
       "    }\n",
       "\n",
       "    .dataframe thead th {\n",
       "        text-align: right;\n",
       "    }\n",
       "</style>\n",
       "<table border=\"1\" class=\"dataframe\">\n",
       "  <thead>\n",
       "    <tr style=\"text-align: right;\">\n",
       "      <th></th>\n",
       "      <th>Name</th>\n",
       "      <th>Date</th>\n",
       "      <th>유동자산계</th>\n",
       "      <th>현금및현금등가물</th>\n",
       "      <th>자본금</th>\n",
       "      <th>자본잉여금</th>\n",
       "      <th>이익잉여금</th>\n",
       "      <th>총자산증가율</th>\n",
       "      <th>자기자본증가율</th>\n",
       "      <th>매출액증가율</th>\n",
       "      <th>...</th>\n",
       "      <th>자기자본비율</th>\n",
       "      <th>자산총계</th>\n",
       "      <th>부채총계</th>\n",
       "      <th>자본총계</th>\n",
       "      <th>매출액</th>\n",
       "      <th>매출총이익손실</th>\n",
       "      <th>판매비와관리비</th>\n",
       "      <th>영업이익손실</th>\n",
       "      <th>당기순이익손실</th>\n",
       "      <th>Price</th>\n",
       "    </tr>\n",
       "  </thead>\n",
       "  <tbody>\n",
       "  </tbody>\n",
       "</table>\n",
       "<p>0 rows × 37 columns</p>\n",
       "</div>"
      ],
      "text/plain": [
       "Empty DataFrame\n",
       "Columns: [Name, Date, 유동자산계, 현금및현금등가물, 자본금, 자본잉여금, 이익잉여금, 총자산증가율, 자기자본증가율, 매출액증가율, 비유동자산계, 영업이익증가율, 순이익증가율, 종업원수증가율, 매출액순이익율, 부채비율, 총자본회전율, 자기자본회전율, 투자자산계, 유형자산계, 무형자산계, 유동부채계, 비유동부채계, 총자본영업이익율, 총자본순이익율, 자기자본순이익율, 자본금순이익율, 자기자본비율, 자산총계, 부채총계, 자본총계, 매출액, 매출총이익손실, 판매비와관리비, 영업이익손실, 당기순이익손실, Price]\n",
       "Index: []\n",
       "\n",
       "[0 rows x 37 columns]"
      ]
     },
     "execution_count": 112,
     "metadata": {},
     "output_type": "execute_result"
    }
   ],
   "source": [
    "# print(df[df['유동자산'] != 0].shape, df.shape, df.describe() , df[df['유동자산'] != 0].describe())\n",
    "df[df['자본금']<0]\n",
    "# plt.figure(figsize=(10,10))\n",
    "# plt.boxplot(a)"
   ]
  },
  {
   "cell_type": "code",
   "execution_count": 113,
   "metadata": {},
   "outputs": [
    {
     "data": {
      "text/plain": [
       "'자본금'"
      ]
     },
     "execution_count": 113,
     "metadata": {},
     "output_type": "execute_result"
    }
   ],
   "source": [
    "columns[2]"
   ]
  },
  {
   "cell_type": "code",
   "execution_count": 114,
   "metadata": {},
   "outputs": [
    {
     "ename": "KeyError",
     "evalue": "True",
     "output_type": "error",
     "traceback": [
      "\u001b[1;31m---------------------------------------------------------------------------\u001b[0m",
      "\u001b[1;31mKeyError\u001b[0m                                  Traceback (most recent call last)",
      "\u001b[1;32mC:\\Anaconda3\\lib\\site-packages\\pandas\\core\\indexes\\base.py\u001b[0m in \u001b[0;36mget_loc\u001b[1;34m(self, key, method, tolerance)\u001b[0m\n\u001b[0;32m   3077\u001b[0m             \u001b[1;32mtry\u001b[0m\u001b[1;33m:\u001b[0m\u001b[1;33m\u001b[0m\u001b[1;33m\u001b[0m\u001b[0m\n\u001b[1;32m-> 3078\u001b[1;33m                 \u001b[1;32mreturn\u001b[0m \u001b[0mself\u001b[0m\u001b[1;33m.\u001b[0m\u001b[0m_engine\u001b[0m\u001b[1;33m.\u001b[0m\u001b[0mget_loc\u001b[0m\u001b[1;33m(\u001b[0m\u001b[0mkey\u001b[0m\u001b[1;33m)\u001b[0m\u001b[1;33m\u001b[0m\u001b[1;33m\u001b[0m\u001b[0m\n\u001b[0m\u001b[0;32m   3079\u001b[0m             \u001b[1;32mexcept\u001b[0m \u001b[0mKeyError\u001b[0m\u001b[1;33m:\u001b[0m\u001b[1;33m\u001b[0m\u001b[1;33m\u001b[0m\u001b[0m\n",
      "\u001b[1;32mpandas\\_libs\\index.pyx\u001b[0m in \u001b[0;36mpandas._libs.index.IndexEngine.get_loc\u001b[1;34m()\u001b[0m\n",
      "\u001b[1;32mpandas\\_libs\\index.pyx\u001b[0m in \u001b[0;36mpandas._libs.index.IndexEngine.get_loc\u001b[1;34m()\u001b[0m\n",
      "\u001b[1;32mpandas\\_libs\\hashtable_class_helper.pxi\u001b[0m in \u001b[0;36mpandas._libs.hashtable.PyObjectHashTable.get_item\u001b[1;34m()\u001b[0m\n",
      "\u001b[1;32mpandas\\_libs\\hashtable_class_helper.pxi\u001b[0m in \u001b[0;36mpandas._libs.hashtable.PyObjectHashTable.get_item\u001b[1;34m()\u001b[0m\n",
      "\u001b[1;31mKeyError\u001b[0m: True",
      "\nDuring handling of the above exception, another exception occurred:\n",
      "\u001b[1;31mKeyError\u001b[0m                                  Traceback (most recent call last)",
      "\u001b[1;32m<ipython-input-114-153e617e5491>\u001b[0m in \u001b[0;36m<module>\u001b[1;34m\u001b[0m\n\u001b[0;32m      8\u001b[0m \u001b[1;33m\u001b[0m\u001b[0m\n\u001b[0;32m      9\u001b[0m \u001b[1;33m\u001b[0m\u001b[0m\n\u001b[1;32m---> 10\u001b[1;33m \u001b[0mtreat\u001b[0m\u001b[1;33m(\u001b[0m\u001b[1;36m5\u001b[0m\u001b[1;33m)\u001b[0m\u001b[1;33m\u001b[0m\u001b[1;33m\u001b[0m\u001b[0m\n\u001b[0m\u001b[0;32m     11\u001b[0m \u001b[1;33m\u001b[0m\u001b[0m\n",
      "\u001b[1;32m<ipython-input-114-153e617e5491>\u001b[0m in \u001b[0;36mtreat\u001b[1;34m(j)\u001b[0m\n\u001b[0;32m      3\u001b[0m     \u001b[1;32mfor\u001b[0m \u001b[0mi\u001b[0m \u001b[1;32min\u001b[0m \u001b[0mrange\u001b[0m\u001b[1;33m(\u001b[0m\u001b[0mj\u001b[0m\u001b[1;33m)\u001b[0m\u001b[1;33m:\u001b[0m\u001b[1;33m\u001b[0m\u001b[1;33m\u001b[0m\u001b[0m\n\u001b[0;32m      4\u001b[0m \u001b[1;33m\u001b[0m\u001b[0m\n\u001b[1;32m----> 5\u001b[1;33m         \u001b[0mdf1\u001b[0m\u001b[1;33m=\u001b[0m\u001b[0mdf\u001b[0m\u001b[1;33m[\u001b[0m\u001b[0mdf\u001b[0m\u001b[1;33m[\u001b[0m\u001b[0mcolumns\u001b[0m\u001b[1;33m[\u001b[0m\u001b[0mi\u001b[0m\u001b[1;33m]\u001b[0m\u001b[1;33m!=\u001b[0m\u001b[1;36m0\u001b[0m\u001b[1;33m]\u001b[0m\u001b[1;33m[\u001b[0m\u001b[0mcolumns\u001b[0m\u001b[1;33m[\u001b[0m\u001b[0mi\u001b[0m\u001b[1;33m]\u001b[0m\u001b[1;33m]\u001b[0m\u001b[1;33m]\u001b[0m\u001b[1;33m\u001b[0m\u001b[1;33m\u001b[0m\u001b[0m\n\u001b[0m\u001b[0;32m      6\u001b[0m \u001b[1;33m\u001b[0m\u001b[0m\n\u001b[0;32m      7\u001b[0m     \u001b[0mprint\u001b[0m\u001b[1;33m(\u001b[0m\u001b[0mdf1\u001b[0m\u001b[1;33m)\u001b[0m\u001b[1;33m\u001b[0m\u001b[1;33m\u001b[0m\u001b[0m\n",
      "\u001b[1;32mC:\\Anaconda3\\lib\\site-packages\\pandas\\core\\frame.py\u001b[0m in \u001b[0;36m__getitem__\u001b[1;34m(self, key)\u001b[0m\n\u001b[0;32m   2686\u001b[0m             \u001b[1;32mreturn\u001b[0m \u001b[0mself\u001b[0m\u001b[1;33m.\u001b[0m\u001b[0m_getitem_multilevel\u001b[0m\u001b[1;33m(\u001b[0m\u001b[0mkey\u001b[0m\u001b[1;33m)\u001b[0m\u001b[1;33m\u001b[0m\u001b[1;33m\u001b[0m\u001b[0m\n\u001b[0;32m   2687\u001b[0m         \u001b[1;32melse\u001b[0m\u001b[1;33m:\u001b[0m\u001b[1;33m\u001b[0m\u001b[1;33m\u001b[0m\u001b[0m\n\u001b[1;32m-> 2688\u001b[1;33m             \u001b[1;32mreturn\u001b[0m \u001b[0mself\u001b[0m\u001b[1;33m.\u001b[0m\u001b[0m_getitem_column\u001b[0m\u001b[1;33m(\u001b[0m\u001b[0mkey\u001b[0m\u001b[1;33m)\u001b[0m\u001b[1;33m\u001b[0m\u001b[1;33m\u001b[0m\u001b[0m\n\u001b[0m\u001b[0;32m   2689\u001b[0m \u001b[1;33m\u001b[0m\u001b[0m\n\u001b[0;32m   2690\u001b[0m     \u001b[1;32mdef\u001b[0m \u001b[0m_getitem_column\u001b[0m\u001b[1;33m(\u001b[0m\u001b[0mself\u001b[0m\u001b[1;33m,\u001b[0m \u001b[0mkey\u001b[0m\u001b[1;33m)\u001b[0m\u001b[1;33m:\u001b[0m\u001b[1;33m\u001b[0m\u001b[1;33m\u001b[0m\u001b[0m\n",
      "\u001b[1;32mC:\\Anaconda3\\lib\\site-packages\\pandas\\core\\frame.py\u001b[0m in \u001b[0;36m_getitem_column\u001b[1;34m(self, key)\u001b[0m\n\u001b[0;32m   2693\u001b[0m         \u001b[1;31m# get column\u001b[0m\u001b[1;33m\u001b[0m\u001b[1;33m\u001b[0m\u001b[1;33m\u001b[0m\u001b[0m\n\u001b[0;32m   2694\u001b[0m         \u001b[1;32mif\u001b[0m \u001b[0mself\u001b[0m\u001b[1;33m.\u001b[0m\u001b[0mcolumns\u001b[0m\u001b[1;33m.\u001b[0m\u001b[0mis_unique\u001b[0m\u001b[1;33m:\u001b[0m\u001b[1;33m\u001b[0m\u001b[1;33m\u001b[0m\u001b[0m\n\u001b[1;32m-> 2695\u001b[1;33m             \u001b[1;32mreturn\u001b[0m \u001b[0mself\u001b[0m\u001b[1;33m.\u001b[0m\u001b[0m_get_item_cache\u001b[0m\u001b[1;33m(\u001b[0m\u001b[0mkey\u001b[0m\u001b[1;33m)\u001b[0m\u001b[1;33m\u001b[0m\u001b[1;33m\u001b[0m\u001b[0m\n\u001b[0m\u001b[0;32m   2696\u001b[0m \u001b[1;33m\u001b[0m\u001b[0m\n\u001b[0;32m   2697\u001b[0m         \u001b[1;31m# duplicate columns & possible reduce dimensionality\u001b[0m\u001b[1;33m\u001b[0m\u001b[1;33m\u001b[0m\u001b[1;33m\u001b[0m\u001b[0m\n",
      "\u001b[1;32mC:\\Anaconda3\\lib\\site-packages\\pandas\\core\\generic.py\u001b[0m in \u001b[0;36m_get_item_cache\u001b[1;34m(self, item)\u001b[0m\n\u001b[0;32m   2487\u001b[0m         \u001b[0mres\u001b[0m \u001b[1;33m=\u001b[0m \u001b[0mcache\u001b[0m\u001b[1;33m.\u001b[0m\u001b[0mget\u001b[0m\u001b[1;33m(\u001b[0m\u001b[0mitem\u001b[0m\u001b[1;33m)\u001b[0m\u001b[1;33m\u001b[0m\u001b[1;33m\u001b[0m\u001b[0m\n\u001b[0;32m   2488\u001b[0m         \u001b[1;32mif\u001b[0m \u001b[0mres\u001b[0m \u001b[1;32mis\u001b[0m \u001b[1;32mNone\u001b[0m\u001b[1;33m:\u001b[0m\u001b[1;33m\u001b[0m\u001b[1;33m\u001b[0m\u001b[0m\n\u001b[1;32m-> 2489\u001b[1;33m             \u001b[0mvalues\u001b[0m \u001b[1;33m=\u001b[0m \u001b[0mself\u001b[0m\u001b[1;33m.\u001b[0m\u001b[0m_data\u001b[0m\u001b[1;33m.\u001b[0m\u001b[0mget\u001b[0m\u001b[1;33m(\u001b[0m\u001b[0mitem\u001b[0m\u001b[1;33m)\u001b[0m\u001b[1;33m\u001b[0m\u001b[1;33m\u001b[0m\u001b[0m\n\u001b[0m\u001b[0;32m   2490\u001b[0m             \u001b[0mres\u001b[0m \u001b[1;33m=\u001b[0m \u001b[0mself\u001b[0m\u001b[1;33m.\u001b[0m\u001b[0m_box_item_values\u001b[0m\u001b[1;33m(\u001b[0m\u001b[0mitem\u001b[0m\u001b[1;33m,\u001b[0m \u001b[0mvalues\u001b[0m\u001b[1;33m)\u001b[0m\u001b[1;33m\u001b[0m\u001b[1;33m\u001b[0m\u001b[0m\n\u001b[0;32m   2491\u001b[0m             \u001b[0mcache\u001b[0m\u001b[1;33m[\u001b[0m\u001b[0mitem\u001b[0m\u001b[1;33m]\u001b[0m \u001b[1;33m=\u001b[0m \u001b[0mres\u001b[0m\u001b[1;33m\u001b[0m\u001b[1;33m\u001b[0m\u001b[0m\n",
      "\u001b[1;32mC:\\Anaconda3\\lib\\site-packages\\pandas\\core\\internals.py\u001b[0m in \u001b[0;36mget\u001b[1;34m(self, item, fastpath)\u001b[0m\n\u001b[0;32m   4113\u001b[0m \u001b[1;33m\u001b[0m\u001b[0m\n\u001b[0;32m   4114\u001b[0m             \u001b[1;32mif\u001b[0m \u001b[1;32mnot\u001b[0m \u001b[0misna\u001b[0m\u001b[1;33m(\u001b[0m\u001b[0mitem\u001b[0m\u001b[1;33m)\u001b[0m\u001b[1;33m:\u001b[0m\u001b[1;33m\u001b[0m\u001b[1;33m\u001b[0m\u001b[0m\n\u001b[1;32m-> 4115\u001b[1;33m                 \u001b[0mloc\u001b[0m \u001b[1;33m=\u001b[0m \u001b[0mself\u001b[0m\u001b[1;33m.\u001b[0m\u001b[0mitems\u001b[0m\u001b[1;33m.\u001b[0m\u001b[0mget_loc\u001b[0m\u001b[1;33m(\u001b[0m\u001b[0mitem\u001b[0m\u001b[1;33m)\u001b[0m\u001b[1;33m\u001b[0m\u001b[1;33m\u001b[0m\u001b[0m\n\u001b[0m\u001b[0;32m   4116\u001b[0m             \u001b[1;32melse\u001b[0m\u001b[1;33m:\u001b[0m\u001b[1;33m\u001b[0m\u001b[1;33m\u001b[0m\u001b[0m\n\u001b[0;32m   4117\u001b[0m                 \u001b[0mindexer\u001b[0m \u001b[1;33m=\u001b[0m \u001b[0mnp\u001b[0m\u001b[1;33m.\u001b[0m\u001b[0marange\u001b[0m\u001b[1;33m(\u001b[0m\u001b[0mlen\u001b[0m\u001b[1;33m(\u001b[0m\u001b[0mself\u001b[0m\u001b[1;33m.\u001b[0m\u001b[0mitems\u001b[0m\u001b[1;33m)\u001b[0m\u001b[1;33m)\u001b[0m\u001b[1;33m[\u001b[0m\u001b[0misna\u001b[0m\u001b[1;33m(\u001b[0m\u001b[0mself\u001b[0m\u001b[1;33m.\u001b[0m\u001b[0mitems\u001b[0m\u001b[1;33m)\u001b[0m\u001b[1;33m]\u001b[0m\u001b[1;33m\u001b[0m\u001b[1;33m\u001b[0m\u001b[0m\n",
      "\u001b[1;32mC:\\Anaconda3\\lib\\site-packages\\pandas\\core\\indexes\\base.py\u001b[0m in \u001b[0;36mget_loc\u001b[1;34m(self, key, method, tolerance)\u001b[0m\n\u001b[0;32m   3078\u001b[0m                 \u001b[1;32mreturn\u001b[0m \u001b[0mself\u001b[0m\u001b[1;33m.\u001b[0m\u001b[0m_engine\u001b[0m\u001b[1;33m.\u001b[0m\u001b[0mget_loc\u001b[0m\u001b[1;33m(\u001b[0m\u001b[0mkey\u001b[0m\u001b[1;33m)\u001b[0m\u001b[1;33m\u001b[0m\u001b[1;33m\u001b[0m\u001b[0m\n\u001b[0;32m   3079\u001b[0m             \u001b[1;32mexcept\u001b[0m \u001b[0mKeyError\u001b[0m\u001b[1;33m:\u001b[0m\u001b[1;33m\u001b[0m\u001b[1;33m\u001b[0m\u001b[0m\n\u001b[1;32m-> 3080\u001b[1;33m                 \u001b[1;32mreturn\u001b[0m \u001b[0mself\u001b[0m\u001b[1;33m.\u001b[0m\u001b[0m_engine\u001b[0m\u001b[1;33m.\u001b[0m\u001b[0mget_loc\u001b[0m\u001b[1;33m(\u001b[0m\u001b[0mself\u001b[0m\u001b[1;33m.\u001b[0m\u001b[0m_maybe_cast_indexer\u001b[0m\u001b[1;33m(\u001b[0m\u001b[0mkey\u001b[0m\u001b[1;33m)\u001b[0m\u001b[1;33m)\u001b[0m\u001b[1;33m\u001b[0m\u001b[1;33m\u001b[0m\u001b[0m\n\u001b[0m\u001b[0;32m   3081\u001b[0m \u001b[1;33m\u001b[0m\u001b[0m\n\u001b[0;32m   3082\u001b[0m         \u001b[0mindexer\u001b[0m \u001b[1;33m=\u001b[0m \u001b[0mself\u001b[0m\u001b[1;33m.\u001b[0m\u001b[0mget_indexer\u001b[0m\u001b[1;33m(\u001b[0m\u001b[1;33m[\u001b[0m\u001b[0mkey\u001b[0m\u001b[1;33m]\u001b[0m\u001b[1;33m,\u001b[0m \u001b[0mmethod\u001b[0m\u001b[1;33m=\u001b[0m\u001b[0mmethod\u001b[0m\u001b[1;33m,\u001b[0m \u001b[0mtolerance\u001b[0m\u001b[1;33m=\u001b[0m\u001b[0mtolerance\u001b[0m\u001b[1;33m)\u001b[0m\u001b[1;33m\u001b[0m\u001b[1;33m\u001b[0m\u001b[0m\n",
      "\u001b[1;32mpandas\\_libs\\index.pyx\u001b[0m in \u001b[0;36mpandas._libs.index.IndexEngine.get_loc\u001b[1;34m()\u001b[0m\n",
      "\u001b[1;32mpandas\\_libs\\index.pyx\u001b[0m in \u001b[0;36mpandas._libs.index.IndexEngine.get_loc\u001b[1;34m()\u001b[0m\n",
      "\u001b[1;32mpandas\\_libs\\hashtable_class_helper.pxi\u001b[0m in \u001b[0;36mpandas._libs.hashtable.PyObjectHashTable.get_item\u001b[1;34m()\u001b[0m\n",
      "\u001b[1;32mpandas\\_libs\\hashtable_class_helper.pxi\u001b[0m in \u001b[0;36mpandas._libs.hashtable.PyObjectHashTable.get_item\u001b[1;34m()\u001b[0m\n",
      "\u001b[1;31mKeyError\u001b[0m: True"
     ]
    }
   ],
   "source": [
    "def treat(j):\n",
    "    \n",
    "    for i in range(j):\n",
    "        \n",
    "        df1=df[df[columns[i]!=0][columns[i]]]\n",
    "        \n",
    "    print(df1)\n",
    "              \n",
    "\n",
    "treat(5)\n",
    "          \n"
   ]
  },
  {
   "cell_type": "code",
   "execution_count": null,
   "metadata": {},
   "outputs": [],
   "source": []
  }
 ],
 "metadata": {
  "kernelspec": {
   "display_name": "Python 3",
   "language": "python",
   "name": "python3"
  },
  "language_info": {
   "codemirror_mode": {
    "name": "ipython",
    "version": 3
   },
   "file_extension": ".py",
   "mimetype": "text/x-python",
   "name": "python",
   "nbconvert_exporter": "python",
   "pygments_lexer": "ipython3",
   "version": "3.7.4"
  }
 },
 "nbformat": 4,
 "nbformat_minor": 2
}
