{
 "cells": [
  {
   "cell_type": "code",
   "execution_count": 11,
   "metadata": {},
   "outputs": [
    {
     "name": "stdout",
     "output_type": "stream",
     "text": [
      "line= 1901,12.3\n",
      "\n",
      "10\n",
      "line= 1902,45.6\n",
      "\n",
      "10\n",
      "line= 1903,78.9\n",
      "9\n"
     ]
    },
    {
     "data": {
      "text/plain": [
       "str"
      ]
     },
     "execution_count": 11,
     "metadata": {},
     "output_type": "execute_result"
    }
   ],
   "source": [
    "with open(\"C://홍길동/data/test01.csv\",'r')as reader:\n",
    "          for line in reader:\n",
    "          \n",
    "            print(\"line=\",line)\n",
    "            print(len(line))\n",
    "            \n",
    "type(line)"
   ]
  },
  {
   "cell_type": "code",
   "execution_count": 12,
   "metadata": {},
   "outputs": [
    {
     "name": "stdout",
     "output_type": "stream",
     "text": [
      "['1901', '12.3\\n']\n",
      "['1902', '45.6\\n']\n",
      "['1903', '78.9']\n"
     ]
    }
   ],
   "source": [
    "with open(\"C://홍길동/data/test01.csv\",'r')as reader:\n",
    "    for line in reader:\n",
    "        fields=line.split(',')\n",
    "        print(fields)"
   ]
  }
 ],
 "metadata": {
  "kernelspec": {
   "display_name": "Python 3",
   "language": "python",
   "name": "python3"
  },
  "language_info": {
   "codemirror_mode": {
    "name": "ipython",
    "version": 3
   },
   "file_extension": ".py",
   "mimetype": "text/x-python",
   "name": "python",
   "nbconvert_exporter": "python",
   "pygments_lexer": "ipython3",
   "version": "3.7.4"
  }
 },
 "nbformat": 4,
 "nbformat_minor": 2
}
