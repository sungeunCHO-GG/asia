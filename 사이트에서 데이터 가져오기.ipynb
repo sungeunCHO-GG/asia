{
 "cells": [
  {
   "cell_type": "code",
   "execution_count": 33,
   "metadata": {},
   "outputs": [
    {
     "data": {
      "text/plain": [
       "'/main/read.nhn?mode=LSD&mid=shm&sid1=100&oid=025&aid=0002965908'"
      ]
     },
     "execution_count": 33,
     "metadata": {},
     "output_type": "execute_result"
    }
   ],
   "source": [
    "import requests\n",
    "\n",
    "from bs4 import BeautifulSoup\n",
    "\n",
    "url = \"https://news.naver.com/\"\n",
    "\n",
    "html = requests.get(url).text\n",
    "\n",
    "soup = BeautifulSoup(html, \"html.parser\")\n",
    "\n",
    "div = soup.find(\"div\", {\"class\": \"hdline_flick_item\"})\n",
    "\n",
    "a=div.find(\"a\")[\"href\"]\n",
    "a\n",
    "# for item in div:\n",
    "    \n",
    "#     href=item.find(\"href\")\n",
    "\n",
    "# href"
   ]
  },
  {
   "cell_type": "code",
   "execution_count": 38,
   "metadata": {},
   "outputs": [
    {
     "name": "stdout",
     "output_type": "stream",
     "text": [
      "56,000\n"
     ]
    }
   ],
   "source": [
    "url = \"https://finance.naver.com/item/main.nhn?code=005930\"\n",
    "\n",
    "result = requests.get(url)\n",
    "\n",
    "bs_obj = BeautifulSoup(result.content,\"html.parser\")\n",
    "\n",
    "no_today = bs_obj.find(\"p\", {\"class\":  \"no_today\"})\n",
    "\n",
    "blind=no_today.find(\"span\", {\"class\":\"blind\"})\n",
    "\n",
    "now_price= blind.text\n",
    "\n",
    "print(now_price)"
   ]
  },
  {
   "cell_type": "markdown",
   "metadata": {},
   "source": [
    "# 여러 종목의 현재주가 받아오기\n",
    "\n",
    "    - 종목 5개의 값을 가져오기\n",
    "    "
   ]
  },
  {
   "cell_type": "code",
   "execution_count": 85,
   "metadata": {},
   "outputs": [
    {
     "name": "stdout",
     "output_type": "stream",
     "text": [
      "<td>15,950</td>\n",
      "--------------------\n",
      "[<td>15,950</td>, <td> <img alt=\"상승\" height=\"6\" src=\"https://ssl.pstatic.net/imgstock/images/images4/ico_up.gif\" style=\"margin-right:4px;\" width=\"7\"/><span class=\"tah p11 red02\"> 3,050 </span> </td>]\n",
      "--------------------\n",
      "<td> <img alt=\"상승\" height=\"6\" src=\"https://ssl.pstatic.net/imgstock/images/images4/ico_up.gif\" style=\"margin-right:4px;\" width=\"7\"/><span class=\"tah p11 red02\"> 3,050 </span> </td>\n",
      "--------------------\n",
      "<img alt=\"상승\" height=\"6\" src=\"https://ssl.pstatic.net/imgstock/images/images4/ico_up.gif\" style=\"margin-right:4px;\" width=\"7\"/>\n",
      "<td>5,170</td>\n",
      "--------------------\n",
      "[<td>5,170</td>, <td> <img alt=\"상승\" height=\"6\" src=\"https://ssl.pstatic.net/imgstock/images/images4/ico_up.gif\" style=\"margin-right:4px;\" width=\"7\"/><span class=\"tah p11 red02\"> 520 </span> </td>]\n",
      "--------------------\n",
      "<td> <img alt=\"상승\" height=\"6\" src=\"https://ssl.pstatic.net/imgstock/images/images4/ico_up.gif\" style=\"margin-right:4px;\" width=\"7\"/><span class=\"tah p11 red02\"> 520 </span> </td>\n",
      "--------------------\n",
      "<img alt=\"상승\" height=\"6\" src=\"https://ssl.pstatic.net/imgstock/images/images4/ico_up.gif\" style=\"margin-right:4px;\" width=\"7\"/>\n",
      "<td>56,000</td>\n",
      "--------------------\n",
      "[<td>56,000</td>, <td> <img alt=\"상승\" height=\"6\" src=\"https://ssl.pstatic.net/imgstock/images/images4/ico_up.gif\" style=\"margin-right:4px;\" width=\"7\"/><span class=\"tah p11 red02\"> 500 </span> </td>]\n",
      "--------------------\n",
      "<td> <img alt=\"상승\" height=\"6\" src=\"https://ssl.pstatic.net/imgstock/images/images4/ico_up.gif\" style=\"margin-right:4px;\" width=\"7\"/><span class=\"tah p11 red02\"> 500 </span> </td>\n",
      "--------------------\n",
      "<img alt=\"상승\" height=\"6\" src=\"https://ssl.pstatic.net/imgstock/images/images4/ico_up.gif\" style=\"margin-right:4px;\" width=\"7\"/>\n"
     ]
    }
   ],
   "source": [
    "url = \"https://finance.naver.com/\"\n",
    "\n",
    "result = requests.get(url)\n",
    "\n",
    "soup = BeautifulSoup(result.content,\"html.parser\")\n",
    "\n",
    "aside= soup.find(\"div\",{\"class\": \"aside_area aside_popular\"})\n",
    "\n",
    "popular = aside.find(\"table\", {\"class\": \"tbl_home\"})\n",
    "\n",
    "tbody= popular.find(\"tbody\")\n",
    "\n",
    "up=tbody.find_all(\"tr\", {\"class\":\"up\"})\n",
    "\n",
    "for i in up:\n",
    "    \n",
    "    b=i.find_all(\"td\")\n",
    "    \n",
    "    print(b[0])\n",
    "   \n",
    "    print('-'*20)\n",
    "    \n",
    "    print(b)\n",
    "    \n",
    "    print('-'*20)\n",
    "    \n",
    "    print(b[1])\n",
    "\n",
    "    c=b[1].find(\"img\")\n",
    "    \n",
    "    print('-'*20)\n",
    "    \n",
    "    print(c)"
   ]
  },
  {
   "cell_type": "markdown",
   "metadata": {},
   "source": [
    "# 특정 종목코드로 추가 정보 받아오기\n",
    "\n",
    "    - 전일(close)\n",
    "    \n",
    "    - 시가(open)\n",
    "    \n",
    "    - 저가(low)\n",
    "    \n",
    "    - 고가(high)\n",
    "    \n",
    "    "
   ]
  },
  {
   "cell_type": "code",
   "execution_count": null,
   "metadata": {},
   "outputs": [],
   "source": [
    "url = \"https://finance.naver.com/item/main.nhn?code=005930\"\n",
    "\n",
    "result = requests.get(url)\n",
    "\n",
    "soup = BeautifulSoup(result.content,\"html.parser\")\n",
    "\n",
    "des= soup.find(\"div\",{\"class\": \"description\"})\n",
    "\n",
    "span = des.find(\"span\", {\"class\":\"code\"})\n",
    "\n",
    "info = soup.find(\"div\", {\"class\":\"content_wrap\"})\n",
    "\n",
    "info"
   ]
  }
 ],
 "metadata": {
  "kernelspec": {
   "display_name": "Python 3",
   "language": "python",
   "name": "python3"
  },
  "language_info": {
   "codemirror_mode": {
    "name": "ipython",
    "version": 3
   },
   "file_extension": ".py",
   "mimetype": "text/x-python",
   "name": "python",
   "nbconvert_exporter": "python",
   "pygments_lexer": "ipython3",
   "version": "3.7.4"
  }
 },
 "nbformat": 4,
 "nbformat_minor": 2
}
