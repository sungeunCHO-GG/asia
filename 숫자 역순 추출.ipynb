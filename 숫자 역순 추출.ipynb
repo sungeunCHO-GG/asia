{
 "cells": [
  {
   "cell_type": "markdown",
   "metadata": {},
   "source": [
    "# 함수 solution은 정수 n을 매개변수로 입력받습니다. \n",
    "# n의 각 자릿수를 큰것부터 작은 순으로 정렬한 새로운 정수를 리턴해주세요.\n",
    "\n",
    "# 예를들어 n이 118372면 873211을 리턴하면 됩니다."
   ]
  },
  {
   "cell_type": "code",
   "execution_count": 40,
   "metadata": {},
   "outputs": [
    {
     "data": {
      "text/plain": [
       "'873211'"
      ]
     },
     "execution_count": 40,
     "metadata": {},
     "output_type": "execute_result"
    }
   ],
   "source": [
    "\n",
    "def solution(n):\n",
    "    a=str(n)\n",
    "    list_a=[]\n",
    "    \n",
    "    for i in range(len(a)):\n",
    "        list_a.append(a[i])\n",
    "\n",
    "    list_a.sort()\n",
    "    list_a.reverse()\n",
    "    \n",
    "    answer=\"\".join(list_a)\n",
    "\n",
    "    return answer\n",
    "    \n",
    "solution(118372)\n",
    "\n"
   ]
  },
  {
   "cell_type": "code",
   "execution_count": 10,
   "metadata": {},
   "outputs": [
    {
     "data": {
      "text/plain": [
       "[-1, 5, 15, 20]"
      ]
     },
     "execution_count": 10,
     "metadata": {},
     "output_type": "execute_result"
    }
   ],
   "source": [
    "def solution(arr, divisor):\n",
    "    \n",
    "    arr.sort()\n",
    "    \n",
    "    answer = []\n",
    "    \n",
    "    for i in arr:\n",
    "        \n",
    "        if i%divisor==0:\n",
    "            \n",
    "            answer.append(i)\n",
    "        \n",
    "            \n",
    "            \n",
    "            \n",
    "    if len(answer)==0:\n",
    "                \n",
    "            answer=[-1]\n",
    "                \n",
    "    return answer\n",
    "                \n",
    "solution([3, 5, 20, 15],5)"
   ]
  },
  {
   "cell_type": "code",
   "execution_count": null,
   "metadata": {},
   "outputs": [],
   "source": []
  }
 ],
 "metadata": {
  "kernelspec": {
   "display_name": "Python 3",
   "language": "python",
   "name": "python3"
  },
  "language_info": {
   "codemirror_mode": {
    "name": "ipython",
    "version": 3
   },
   "file_extension": ".py",
   "mimetype": "text/x-python",
   "name": "python",
   "nbconvert_exporter": "python",
   "pygments_lexer": "ipython3",
   "version": "3.7.4"
  }
 },
 "nbformat": 4,
 "nbformat_minor": 2
}
