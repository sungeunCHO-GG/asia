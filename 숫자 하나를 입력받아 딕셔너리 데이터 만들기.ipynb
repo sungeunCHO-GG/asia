{
 "cells": [
  {
   "cell_type": "markdown",
   "metadata": {},
   "source": [
    "# 실습\n",
    "\n",
    "1. 숫자 하나를 화면에서 입력받아\n",
    "\n",
    "    - 1부터 입력 숫자까지의 키를 가지고 있는 딕셔너리 데이터를 만들어라\n",
    "    - 값은 i*i\n",
    "    \n",
    "    \n",
    "2. 예)4를 입력받으면 {1:1, 2:4,3:9, 4:16}"
   ]
  },
  {
   "cell_type": "code",
   "execution_count": 6,
   "metadata": {},
   "outputs": [
    {
     "name": "stdout",
     "output_type": "stream",
     "text": [
      "Enter the number:5\n",
      "{1: 1, 2: 4, 3: 9, 4: 16, 5: 25}\n"
     ]
    }
   ],
   "source": [
    "number = int(input(\"Enter the number:\"))\n",
    "\n",
    "d = {}\n",
    "\n",
    "for i in range(1, number+1):\n",
    "    d[i] = i*i\n",
    "\n",
    "print(d)\n",
    "\n"
   ]
  },
  {
   "cell_type": "code",
   "execution_count": null,
   "metadata": {},
   "outputs": [],
   "source": []
  },
  {
   "cell_type": "code",
   "execution_count": null,
   "metadata": {},
   "outputs": [],
   "source": [
    "\n"
   ]
  }
 ],
 "metadata": {
  "kernelspec": {
   "display_name": "Python 3",
   "language": "python",
   "name": "python3"
  },
  "language_info": {
   "codemirror_mode": {
    "name": "ipython",
    "version": 3
   },
   "file_extension": ".py",
   "mimetype": "text/x-python",
   "name": "python",
   "nbconvert_exporter": "python",
   "pygments_lexer": "ipython3",
   "version": "3.7.4"
  }
 },
 "nbformat": 4,
 "nbformat_minor": 2
}
