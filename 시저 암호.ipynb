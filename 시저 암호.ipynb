{
 "cells": [
  {
   "cell_type": "markdown",
   "metadata": {},
   "source": [
    "어떤 문장의 각 알파벳을 일정한 거리만큼 밀어서 다른 알파벳으로 바꾸는 암호화 방식을 시저 암호라고 합니다. 예를 들어 AB는 1만큼 밀면 BC가 되고, 3만큼 밀면 DE가 됩니다. z는 1만큼 밀면 a가 됩니다. 문자열 s와 거리 n을 입력받아 s를 n만큼 민 암호문을 만드는 함수, solution을 완성해 보세요.\n",
    "\n",
    "제한 조건\n",
    "공백은 아무리 밀어도 공백입니다.\n",
    "s는 알파벳 소문자, 대문자, 공백으로만 이루어져 있습니다.\n",
    "s의 길이는 8000이하입니다.\n",
    "n은 1 이상, 25이하인 자연수입니다.\n",
    "입출력 예\n",
    "s\tn\tresult\n",
    "AB\t1\tBC\n",
    "z\t1\ta\n",
    "a B z\t4\te F d"
   ]
  },
  {
   "cell_type": "code",
   "execution_count": 131,
   "metadata": {},
   "outputs": [
    {
     "name": "stdout",
     "output_type": "stream",
     "text": [
      "['a']\n"
     ]
    },
    {
     "data": {
      "text/plain": [
       "'a'"
      ]
     },
     "execution_count": 131,
     "metadata": {},
     "output_type": "execute_result"
    }
   ],
   "source": [
    "\n",
    "\n",
    "def solution(s,n):\n",
    "    a=[]   \n",
    "    for i in s:\n",
    "        \n",
    "        x = ord(i)+n\n",
    "        \n",
    "        \n",
    "        if i==\" \":\n",
    "            \n",
    "            b=\" \"\n",
    "            a.append(b)\n",
    "            \n",
    "            print(a)\n",
    "            \n",
    "            \n",
    "        elif  ord(i)<=90 and x>90:\n",
    "  \n",
    "            b=chr(x-26)\n",
    "            \n",
    "            a.append(b) \n",
    "        \n",
    "            print(a)\n",
    "            \n",
    "            \n",
    "        elif ord(i)>=97 and x>122:\n",
    "            \n",
    "            b=chr(x-26)\n",
    "            \n",
    "            a.append(b) \n",
    "        \n",
    "            print(a)\n",
    "            \n",
    "        else:\n",
    "            \n",
    "            b=chr(ord(i)+n)\n",
    "            a.append(b)\n",
    "            print(a)\n",
    "            \n",
    "            \n",
    "        c=\"\".join(a)\n",
    "        \n",
    "    return c\n",
    "    \n",
    "solution('z',1)\n",
    "\n",
    "\n",
    "\n"
   ]
  },
  {
   "cell_type": "code",
   "execution_count": 130,
   "metadata": {},
   "outputs": [
    {
     "name": "stdout",
     "output_type": "stream",
     "text": [
      "57\n"
     ]
    },
    {
     "data": {
      "text/plain": [
       "123"
      ]
     },
     "execution_count": 130,
     "metadata": {},
     "output_type": "execute_result"
    }
   ],
   "source": [
    "print(ord('9'))\n",
    "\n",
    "ord('{')"
   ]
  },
  {
   "cell_type": "code",
   "execution_count": 93,
   "metadata": {},
   "outputs": [
    {
     "data": {
      "text/plain": [
       "'9'"
      ]
     },
     "execution_count": 93,
     "metadata": {},
     "output_type": "execute_result"
    }
   ],
   "source": [
    "chr(ord('')+7)"
   ]
  }
 ],
 "metadata": {
  "kernelspec": {
   "display_name": "Python 3",
   "language": "python",
   "name": "python3"
  },
  "language_info": {
   "codemirror_mode": {
    "name": "ipython",
    "version": 3
   },
   "file_extension": ".py",
   "mimetype": "text/x-python",
   "name": "python",
   "nbconvert_exporter": "python",
   "pygments_lexer": "ipython3",
   "version": "3.7.4"
  }
 },
 "nbformat": 4,
 "nbformat_minor": 2
}
