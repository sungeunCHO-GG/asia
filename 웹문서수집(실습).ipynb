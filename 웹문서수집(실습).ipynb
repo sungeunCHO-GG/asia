{
 "cells": [
  {
   "cell_type": "code",
   "execution_count": 4,
   "metadata": {},
   "outputs": [
    {
     "name": "stdout",
     "output_type": "stream",
     "text": [
      "img = https://imgnews.pstatic.net/image/origin/091/2020/01/06/7725330.jpg?type=nf106_72\n",
      "----------------\n",
      "img = https://imgnews.pstatic.net/image/origin/091/2020/01/06/7725329.jpg?type=nf106_72\n",
      "----------------\n",
      "img = https://imgnews.pstatic.net/image/origin/091/2020/01/06/7725328.jpg?type=nf106_72\n",
      "----------------\n",
      "img = https://imgnews.pstatic.net/image/origin/077/2020/01/06/4678912.jpg?type=nf106_72\n",
      "----------------\n",
      "img = https://imgnews.pstatic.net/image/origin/077/2020/01/06/4678911.jpg?type=nf106_72\n",
      "----------------\n",
      "img = https://imgnews.pstatic.net/image/origin/091/2020/01/06/7725327.jpg?type=nf106_72\n",
      "----------------\n",
      "img = https://imgnews.pstatic.net/image/origin/469/2020/01/06/454766.jpg?type=nf106_72\n",
      "----------------\n",
      "img = https://imgnews.pstatic.net/image/origin/057/2020/01/06/1409374.jpg?type=nf106_72\n",
      "----------------\n",
      "img = https://imgnews.pstatic.net/image/origin/119/2020/01/06/2375004.jpg?type=nf106_72\n",
      "----------------\n",
      "img = https://imgnews.pstatic.net/image/origin/119/2020/01/06/2375003.jpg?type=nf106_72\n",
      "----------------\n"
     ]
    }
   ],
   "source": [
    "import requests\n",
    "from bs4 import BeautifulSoup\n",
    "\n",
    "url = \"http://news.naver.com/main/list.nhn?mode=LSD&mid=sec&sid1=001\"\n",
    "\n",
    "html = requests.get(url).text\n",
    "\n",
    "soup=BeautifulSoup(html, \"html.parser\")\n",
    "\n",
    "\n",
    "all = soup.find(\"ul\", {\"class\" : \"type06_headline\"})\n",
    "\n",
    "dl= all.find_all(\"dl\")\n",
    "\n",
    "for item2 in dl:\n",
    "    \n",
    "    try:\n",
    "        \n",
    "        img=item2.find(\"dt\", {\"class\" : \"photo\"}).find(\"img\")\n",
    "        \n",
    "        print(\"img =\", img[\"src\"])\n",
    "        print(\"----------------\")\n",
    "        \n",
    "    except:\n",
    "        \n",
    "        print(\"No image\")\n",
    "        \n",
    "        "
   ]
  },
  {
   "cell_type": "code",
   "execution_count": 7,
   "metadata": {},
   "outputs": [
    {
     "name": "stdout",
     "output_type": "stream",
     "text": [
      "https://news.naver.com/main/read.nhn?mode=LSD&mid=sec&sid1=001&oid=091&aid=0007725330\n",
      " USA NFL PLAYOFFS WILD CARD\r\n",
      "https://news.naver.com/main/read.nhn?mode=LSD&mid=sec&sid1=001&oid=091&aid=0007725329\n",
      " USA NFL PLAYOFFS WILD CARD\r\n",
      "https://news.naver.com/main/read.nhn?mode=LSD&mid=sec&sid1=001&oid=091&aid=0007725328\n",
      " USA GOLDEN GLOBES 2020\r\n",
      "https://news.naver.com/main/read.nhn?mode=LSD&mid=sec&sid1=001&oid=077&aid=0004678912\n",
      " 77th Annual Golden Globe Awards - Audience\r\n",
      "https://news.naver.com/main/read.nhn?mode=LSD&mid=sec&sid1=001&oid=077&aid=0004678911\n",
      " 77th Annual Golden Globe Awards - Audience\r\n",
      "https://news.naver.com/main/read.nhn?mode=LSD&mid=sec&sid1=001&oid=091&aid=0007725327\n",
      " USA GOLDEN GLOBES 2020\r\n",
      "https://news.naver.com/main/read.nhn?mode=LSD&mid=sec&sid1=001&oid=469&aid=0000454766\n",
      " [속보] ‘기생충’, 한국 영화 최초 골든글로브 ‘외국어영화상’ 수상\r\n",
      "https://news.naver.com/main/read.nhn?mode=LSD&mid=sec&sid1=001&oid=057&aid=0001409374\n",
      " 서울시, 가족 귀농 체험 60세대 모집\r\n",
      "https://news.naver.com/main/read.nhn?mode=LSD&mid=sec&sid1=001&oid=119&aid=0002375004\n",
      " [CES 2020] 서울반도체, ‘마이크로 클린 LED’ 선봬\r\n",
      "https://news.naver.com/main/read.nhn?mode=LSD&mid=sec&sid1=001&oid=119&aid=0002375003\n",
      " <포토>정관장, '20년 설, 20살의 마음으로 새해 복 선물하세요'\r\n",
      "NFL Playoffs NFC Wild Card game Seattle Seahawks at Philadelphia Eages  …EPA연합뉴스1분전\n",
      "NFL Playoffs NFC Wild Card game Seattle Seahawks at Philadelphia Eages  …EPA연합뉴스1분전\n",
      "Arrivals - 77th Golden Globe Awards (L-R) Samantha Bryant, Colin Hanks, …EPA연합뉴스1분전\n",
      "Gwyneth Paltrow, Brad Falchuk Gwyneth Paltrow, left, and Brad Falchuk a …AP연합뉴스1분전\n",
      "Jennifer Lopez, Alex Rodriguez Jennifer Lopez, left, and Alex Rodriguez …AP연합뉴스1분전\n",
      "Arrivals - 77th Golden Globe Awards Scarlett Johansson arrives for the  …EPA연합뉴스1분전\n",
      "봉준호 감독의 ‘기생충’이 한국영화 최초로 미국 골든글로브상을 안았다. ‘기생충’은 5일 오후(현지시간) 미국 로스앤젤레스에서  …한국일보1분전\n",
      "서울시는 홍천과 제천, 무주를 포함해 전국 8곳에서 진행하는 '체류형 귀농 지원사업'에 참여할 60세대를 오는 31일까지 모집합 …MBN1분전\n",
      "해상도 4K TV 42인치부터 220인치까지 1개 픽셀로 구현 서울반도체와 서울바이오시스는 이달 7일 미국 라스베이거스에서 열리 …데일리안1분전\n",
      "KGC인삼공사 정관장이 6일 오전 서울 중구 한국의 집에서 다가오는설을 앞두고 진행하는 '20년 설, 20살의 마음을 선물하세요 …데일리안1분전\n"
     ]
    }
   ],
   "source": [
    "dl = all.find_all(\"dl\")\n",
    "\n",
    "for item2 in dl:\n",
    "    \n",
    "    link=item2.find(\"dt\", {\"class\":\"\"}).find(\"a\")\n",
    "    \n",
    "    print(link[\"href\"])\n",
    "    \n",
    "    print(link.text.replace(\"\\t\", \"\").replace(\"\\n\",\"\")[1:len(link.text)+1])\n",
    "    \n",
    "dl = all.find_all(\"dl\")\n",
    "\n",
    "for item2 in dl:\n",
    "    \n",
    "    try:\n",
    "        \n",
    "        content = item2.find(\"dd\")\n",
    "        \n",
    "        print(content.text.replace(\"\\t\",\"\").replace(\"\\n\",\"\").split(\"...\")[0])\n",
    "        \n",
    "    except:\n",
    "        \n",
    "        print(\"No Content\")"
   ]
  },
  {
   "cell_type": "code",
   "execution_count": null,
   "metadata": {},
   "outputs": [],
   "source": []
  }
 ],
 "metadata": {
  "kernelspec": {
   "display_name": "Python 3",
   "language": "python",
   "name": "python3"
  },
  "language_info": {
   "codemirror_mode": {
    "name": "ipython",
    "version": 3
   },
   "file_extension": ".py",
   "mimetype": "text/x-python",
   "name": "python",
   "nbconvert_exporter": "python",
   "pygments_lexer": "ipython3",
   "version": "3.7.4"
  }
 },
 "nbformat": 4,
 "nbformat_minor": 2
}
