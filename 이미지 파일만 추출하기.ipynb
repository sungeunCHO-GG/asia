{
 "cells": [
  {
   "cell_type": "markdown",
   "metadata": {},
   "source": [
    "# 화일 중 이미지 화일(.jpg, .png)을 사용하여 출력 하시오"
   ]
  },
  {
   "cell_type": "code",
   "execution_count": 36,
   "metadata": {},
   "outputs": [
    {
     "name": "stdout",
     "output_type": "stream",
     "text": [
      "i= font\n",
      "['font']\n",
      "1\n",
      "----------------------------------------\n",
      "i= 3.png\n",
      "['3', 'png']\n",
      "2\n",
      "a[0] =  3\n",
      "a[1] =  png\n",
      "----------------------------------------\n",
      "i= table.xlsx\n",
      "['table', 'xlsx']\n",
      "2\n",
      "a[0] =  table\n",
      "a[1] =  xlsx\n",
      "----------------------------------------\n",
      "i= 11.gif\n",
      "['11', 'gif']\n",
      "2\n",
      "a[0] =  11\n",
      "a[1] =  gif\n",
      "----------------------------------------\n",
      "i= spec.docx\n",
      "['spec', 'docx']\n",
      "2\n",
      "a[0] =  spec\n",
      "a[1] =  docx\n",
      "----------------------------------------\n",
      "i= 1.png\n",
      "['1', 'png']\n",
      "2\n",
      "a[0] =  1\n",
      "a[1] =  png\n",
      "----------------------------------------\n",
      "i= 2.jpg\n",
      "['2', 'jpg']\n",
      "2\n",
      "a[0] =  2\n",
      "a[1] =  jpg\n",
      "----------------------------------------\n",
      "i= 10.jpg\n",
      "['10', 'jpg']\n",
      "2\n",
      "a[0] =  10\n",
      "a[1] =  jpg\n",
      "----------------------------------------\n"
     ]
    }
   ],
   "source": [
    "files = {'font', '1.png', '10.jpg', '11.gif', '2.jpg', '3.png', 'table.xlsx','spec.docx'}\n",
    "\n",
    "# 풀이1\n",
    "\n",
    "for i in files:\n",
    "    print(\"i=\",i)\n",
    "    \n",
    "    a = i.split('.')\n",
    "    \n",
    "    print(a)\n",
    "    \n",
    "    print(len(a))\n",
    "    \n",
    "    if(len(a)!=1):\n",
    "        print(\"a[0] = \", a[0])\n",
    "        print(\"a[1] = \", a[1])\n",
    "        \n",
    "    print(\"-\"*40)\n",
    "   \n",
    "    "
   ]
  },
  {
   "cell_type": "code",
   "execution_count": 34,
   "metadata": {},
   "outputs": [
    {
     "name": "stdout",
     "output_type": "stream",
     "text": [
      "i= font\n",
      "np = font\n",
      "i= 3.png\n",
      "yes = 3.png\n",
      "i= table.xlsx\n",
      "np = table.xlsx\n",
      "i= 11.gif\n",
      "np = 11.gif\n",
      "i= spec.docx\n",
      "np = spec.docx\n",
      "i= 1.png\n",
      "yes = 1.png\n",
      "i= 2.jpg\n",
      "yes = 2.jpg\n",
      "i= 10.jpg\n",
      "yes = 10.jpg\n"
     ]
    }
   ],
   "source": [
    "files = {'font', '1.png', '10.jpg', '11.gif', '2.jpg', '3.png', 'table.xlsx','spec.docx'}\n",
    "\n",
    "# 풀이2\n",
    "\n",
    "for i in files:\n",
    "    print(\"i=\",i)\n",
    "    if(i. find('.jpg') !=-1 or i.find('.png') != -1):\n",
    "        print(\"yes =\", i)\n",
    "        \n",
    "    else:\n",
    "        print(\"np =\", i)\n",
    "        \n",
    "        "
   ]
  },
  {
   "cell_type": "code",
   "execution_count": 42,
   "metadata": {},
   "outputs": [
    {
     "name": "stdout",
     "output_type": "stream",
     "text": [
      "['font']\n",
      "1\n",
      "no = font\n",
      "['3', 'png']\n",
      "2\n",
      "yes= 3.png\n",
      "['table', 'xlsx']\n",
      "2\n",
      "['11', 'gif']\n",
      "2\n",
      "['spec', 'docx']\n",
      "2\n",
      "['1', 'png']\n",
      "2\n",
      "yes= 1.png\n",
      "['2', 'jpg']\n",
      "2\n",
      "yes= 2.jpg\n",
      "['10', 'jpg']\n",
      "2\n",
      "yes= 10.jpg\n"
     ]
    }
   ],
   "source": [
    "#풀이3\n",
    "\n",
    "for i in files:\n",
    "    a=i.split(\".\")\n",
    "    \n",
    "    print(a)\n",
    "    print(len(a))\n",
    "    \n",
    "    if(len(a)!=1):\n",
    "        if (a[1]=='jpg' or a[1]=='png'):\n",
    "            print(\"yes=\", i)\n",
    "            \n",
    "    else:\n",
    "        print(\"no =\", i)\n",
    "    "
   ]
  },
  {
   "cell_type": "code",
   "execution_count": null,
   "metadata": {},
   "outputs": [],
   "source": []
  }
 ],
 "metadata": {
  "kernelspec": {
   "display_name": "Python 3",
   "language": "python",
   "name": "python3"
  },
  "language_info": {
   "codemirror_mode": {
    "name": "ipython",
    "version": 3
   },
   "file_extension": ".py",
   "mimetype": "text/x-python",
   "name": "python",
   "nbconvert_exporter": "python",
   "pygments_lexer": "ipython3",
   "version": "3.7.4"
  }
 },
 "nbformat": 4,
 "nbformat_minor": 2
}
